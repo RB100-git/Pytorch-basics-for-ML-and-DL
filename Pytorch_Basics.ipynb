{
  "cells": [
    {
      "cell_type": "markdown",
      "metadata": {
        "id": "ff689970-30a7-4531-a361-98bb8b97c7ca"
      },
      "source": [
        "<h1>Two-Dimensional Tensors</h1>\n"
      ]
    },
    {
      "cell_type": "markdown",
      "metadata": {
        "id": "02fbbe37-8402-4b1d-86c3-5de747c65a42"
      },
      "source": [
        "<h2>Objective</h2><ul><li> How to perform tensor operations on 2D tensors.</li></ul> \n"
      ]
    },
    {
      "cell_type": "markdown",
      "metadata": {
        "id": "e3228dec-5672-45af-a844-56143a6d4683"
      },
      "source": [
        "The following are the libraries we are going to use for this lab.\n"
      ]
    },
    {
      "cell_type": "code",
      "metadata": {
        "id": "706fdcc1-64e3-4bfe-a064-c4971f76d292"
      },
      "outputs": [],
      "source": [
        "import numpy as np \n",
        "import matplotlib.pyplot as plt\n",
        "import torch\n",
        "import pandas as pd"
      ],
      "execution_count": 1
    },
    {
      "cell_type": "markdown",
      "metadata": {
        "id": "beda3904-4e50-4633-a191-31d33b56366e"
      },
      "source": [
        "<h2 id=\"Types_Shape\">Types and Shape</h2>\n"
      ]
    },
    {
      "cell_type": "markdown",
      "metadata": {
        "id": "103bcce4-3572-4163-acee-4d5780ed7a64"
      },
      "source": [
        "Let us see how to convert a 2D list to a 2D tensor. First, let us create a 3X3 2D tensor. let us try to use <code>torch.tensor()</code>.\n",
        "\n"
      ]
    },
    {
      "cell_type": "code",
      "metadata": {
        "colab": {
          "base_uri": "https://localhost:8080/"
        },
        "id": "b17e7824-fe93-41b6-b1db-b08dcb616279",
        "outputId": "d514232f-de3c-4568-904b-bc565d18f8ba"
      },
      "outputs": [
        {
          "output_type": "stream",
          "name": "stdout",
          "text": [
            "The New 2D Tensor:  tensor([[11, 12, 13],\n",
            "        [21, 22, 23],\n",
            "        [31, 32, 33]])\n"
          ]
        }
      ],
      "source": [
        "#Convert 2D List to 2D Tensor\n",
        "\n",
        "twoD_list = [[11, 12, 13], [21, 22, 23], [31, 32, 33]]\n",
        "twoD_tensor = torch.tensor(twoD_list)\n",
        "print(\"The New 2D Tensor: \", twoD_tensor)"
      ],
      "execution_count": 2
    },
    {
      "cell_type": "markdown",
      "metadata": {
        "id": "91d24e15-9438-481b-92f1-13337715dd03"
      },
      "source": [
        "<!--Empty Space for separating topics-->\n"
      ]
    },
    {
      "cell_type": "markdown",
      "metadata": {
        "id": "7549f45c-131c-4811-95da-c61f685f1b84"
      },
      "source": [
        "Let us try <code><i>tensor_obj</i>.ndimension()</code> (<code>tensor_obj</code>: This can be any tensor object), <code><i>tensor_obj</i>.shape</code>, and <code><i>tensor_obj</i>.size()</code>\n"
      ]
    },
    {
      "cell_type": "code",
      "metadata": {
        "colab": {
          "base_uri": "https://localhost:8080/"
        },
        "id": "995e78c1-9b9b-452b-bde3-3b06065f746d",
        "outputId": "324fb512-780a-4d53-d101-1b70aa18b34e"
      },
      "outputs": [
        {
          "output_type": "stream",
          "name": "stdout",
          "text": [
            "The dimension of twoD_tensor:  2\n",
            "The shape of twoD_tensor:  torch.Size([3, 3])\n",
            "The shape of twoD_tensor:  torch.Size([3, 3])\n",
            "The number of elements in twoD_tensor:  9\n"
          ]
        }
      ],
      "source": [
        "# Try tensor_obj.ndimension(), tensor_obj.shape, tensor_obj.size()\n",
        "\n",
        "print(\"The dimension of twoD_tensor: \", twoD_tensor.ndimension())\n",
        "print(\"The shape of twoD_tensor: \", twoD_tensor.shape)\n",
        "print(\"The shape of twoD_tensor: \", twoD_tensor.size())\n",
        "print(\"The number of elements in twoD_tensor: \", twoD_tensor.numel())"
      ],
      "execution_count": 3
    },
    {
      "cell_type": "markdown",
      "metadata": {
        "id": "d35aeaf9-3602-463f-ae38-014d3885eaf3"
      },
      "source": [
        "Because it is a 2D 3X3 tensor,  the outputs are correct.\n"
      ]
    },
    {
      "cell_type": "markdown",
      "metadata": {
        "id": "ce81e1ea-3ce0-4639-bf93-de9a64396f7d"
      },
      "source": [
        "<!--Empty Space for separating topics-->\n"
      ]
    },
    {
      "cell_type": "markdown",
      "metadata": {
        "id": "9374a1aa-df1d-487a-97ed-6a79a3b38c6f"
      },
      "source": [
        "Now, let us try converting the tensor to a numpy array and convert the numpy array back to a tensor.\n"
      ]
    },
    {
      "cell_type": "code",
      "metadata": {
        "colab": {
          "base_uri": "https://localhost:8080/"
        },
        "id": "47b94883-97bb-45f1-8d6c-dbd58004904e",
        "outputId": "7ac694fd-fb1a-407f-82da-2a3389a90061"
      },
      "outputs": [
        {
          "output_type": "stream",
          "name": "stdout",
          "text": [
            "Tensor -> Numpy Array:\n",
            "The numpy array after converting:  [[11 12 13]\n",
            " [21 22 23]\n",
            " [31 32 33]]\n",
            "Type after converting:  int64\n",
            "================================================\n",
            "Numpy Array -> Tensor:\n",
            "The tensor after converting: tensor([[11, 12, 13],\n",
            "        [21, 22, 23],\n",
            "        [31, 32, 33]])\n",
            "Type after converting:  torch.int64\n"
          ]
        }
      ],
      "source": [
        "# Convert tensor to numpy array; Convert numpy array to tensor\n",
        "\n",
        "twoD_numpy = twoD_tensor.numpy()\n",
        "print(\"Tensor -> Numpy Array:\")\n",
        "print(\"The numpy array after converting: \", twoD_numpy)\n",
        "print(\"Type after converting: \", twoD_numpy.dtype)\n",
        "\n",
        "print(\"================================================\")\n",
        "\n",
        "new_twoD_tensor = torch.from_numpy(twoD_numpy)\n",
        "print(\"Numpy Array -> Tensor:\")\n",
        "print(\"The tensor after converting:\", new_twoD_tensor)\n",
        "print(\"Type after converting: \", new_twoD_tensor.dtype)"
      ],
      "execution_count": 4
    },
    {
      "cell_type": "markdown",
      "metadata": {
        "id": "b3314bc2-19f1-4096-88b7-4611967c83b1"
      },
      "source": [
        "The result shows the tensor has successfully been converted to a numpy array and then converted back to a tensor.\n"
      ]
    },
    {
      "cell_type": "markdown",
      "metadata": {
        "id": "291b9332-4d66-452b-925f-ff5de9183dd9"
      },
      "source": [
        "<!--Empty Space for separating topics-->\n"
      ]
    },
    {
      "cell_type": "markdown",
      "metadata": {
        "id": "b843aee6-7ad6-430d-b54f-88f43349fffe"
      },
      "source": [
        "Now let us try to convert a Pandas Dataframe to a tensor. The process is the  Same as the 1D conversion, we can obtain the numpy array via the attribute <code>values</code>. Then, we can use <code>torch.from_numpy()</code> to convert the value of the Pandas Series to a tensor.\n"
      ]
    },
    {
      "cell_type": "code",
      "metadata": {
        "colab": {
          "base_uri": "https://localhost:8080/"
        },
        "id": "fbeea62d-220e-419d-a618-098372d41983",
        "outputId": "58b8032c-010b-4aa0-fe65-e672c2d3ceba"
      },
      "outputs": [
        {
          "output_type": "stream",
          "name": "stdout",
          "text": [
            "Pandas Dataframe to numpy:  [[ 11  12]\n",
            " [ 21  22]\n",
            " [ 31 312]]\n",
            "Type BEFORE converting:  int64\n",
            "================================================\n",
            "Tensor AFTER converting:  tensor([[ 11,  12],\n",
            "        [ 21,  22],\n",
            "        [ 31, 312]])\n",
            "Type AFTER converting:  torch.int64\n"
          ]
        }
      ],
      "source": [
        "# Try to convert the Panda Dataframe to tensor\n",
        "\n",
        "df = pd.DataFrame({'a':[11,21,31],'b':[12,22,312]})\n",
        "\n",
        "print(\"Pandas Dataframe to numpy: \", df.values)\n",
        "print(\"Type BEFORE converting: \", df.values.dtype)\n",
        "\n",
        "print(\"================================================\")\n",
        "\n",
        "new_tensor = torch.from_numpy(df.values)\n",
        "print(\"Tensor AFTER converting: \", new_tensor)\n",
        "print(\"Type AFTER converting: \", new_tensor.dtype)"
      ],
      "execution_count": 5
    },
    {
      "cell_type": "markdown",
      "metadata": {
        "id": "924b9d3c-e902-4901-898b-bcbfe7c18ad1"
      },
      "source": [
        "<!--Empty Space for separating topics-->\n"
      ]
    },
    {
      "cell_type": "markdown",
      "metadata": {
        "id": "3e5ba6b8-c072-4467-ba81-11210d84fb0a"
      },
      "source": [
        "<h3>Assignment</h3>\n"
      ]
    },
    {
      "cell_type": "markdown",
      "metadata": {
        "id": "aec5ade3-e6ef-451c-8de7-fd7fb336172e"
      },
      "source": [
        "Try to convert the following Pandas Dataframe  to a tensor\n"
      ]
    },
    {
      "cell_type": "code",
      "metadata": {
        "colab": {
          "base_uri": "https://localhost:8080/"
        },
        "id": "753d93e0-3f71-4a9a-be2b-5070a85325a2",
        "outputId": "76c47159-ee54-4cd4-d5b6-a85dfbd0565f"
      },
      "outputs": [
        {
          "output_type": "execute_result",
          "data": {
            "text/plain": [
              "tensor([[11,  3],\n",
              "        [33,  3],\n",
              "        [22,  2]])"
            ]
          },
          "metadata": {},
          "execution_count": 8
        }
      ],
      "source": [
        "# Practice: try to convert Pandas Series to tensor\n",
        "\n",
        "df = pd.DataFrame({'A':[11, 33, 22],'B':[3, 3, 2]})\n",
        "tensor_value = torch.from_numpy(df.values)\n",
        "tensor_value"
      ],
      "execution_count": 8
    },
    {
      "cell_type": "markdown",
      "metadata": {
        "id": "e9913ea2-e8c6-421d-a89f-696c7a7a4586"
      },
      "source": [
        "<h2 id=\"Index_Slice\">Indexing and Slicing</h2>\n"
      ]
    },
    {
      "cell_type": "markdown",
      "metadata": {
        "id": "4935dbaf-bfa1-4e24-a592-266ad7d9fe5d"
      },
      "source": [
        "You can use rectangular brackets to access the different elements of the tensor. The correspondence between the rectangular brackets and the list and the rectangular representation is shown in the following figure for a 3X3 tensor:  \n"
      ]
    },
    {
      "cell_type": "markdown",
      "metadata": {
        "id": "4f5bb36b-b6f3-45e6-a498-9586fe795e87"
      },
      "source": [
        "<img src=\"https://s3-api.us-geo.objectstorage.softlayer.net/cf-courses-data/CognitiveClass/DL0110EN/notebook_images%20/chapter%201/1.2index1.png\" width=\"500\" alt=\"Matrix Structure Introduce\">\n"
      ]
    },
    {
      "cell_type": "markdown",
      "metadata": {
        "id": "64b1f09d-2cbe-41ef-9a36-90ac6b501c27"
      },
      "source": [
        "You can access the 2nd-row 3rd-column as shown in the following figure:\n"
      ]
    },
    {
      "cell_type": "markdown",
      "metadata": {
        "id": "48e12c0c-c0df-40ab-a16c-da9d27482af4"
      },
      "source": [
        "<img src=\"https://s3-api.us-geo.objectstorage.softlayer.net/cf-courses-data/CognitiveClass/DL0110EN/notebook_images%20/chapter%201/1.2index.png\" width=\"500\" alt=\"Example of Matrix Index\">\n"
      ]
    },
    {
      "cell_type": "markdown",
      "metadata": {
        "id": "9060ad6f-d2c1-40d9-912a-5ede39731cd7"
      },
      "source": [
        "You simply use the square brackets and the indices corresponding to the element that you want.\n"
      ]
    },
    {
      "cell_type": "markdown",
      "metadata": {
        "id": "0c898c35-cbc0-4d73-a55d-529c945ac662"
      },
      "source": [
        "Now, let us try to access the value on position 2nd-row 3rd-column. Remember that the index is always 1 less than how we count rows and columns. There are two ways to access the certain value of a tensor. The example in code will be the same as the example picture above.\n"
      ]
    },
    {
      "cell_type": "code",
      "metadata": {
        "colab": {
          "base_uri": "https://localhost:8080/"
        },
        "id": "ca19faff-4ac6-4f2b-a1ed-c14fc53928ef",
        "outputId": "a59d37fa-cbdb-413a-cfcb-6d61b47ad503"
      },
      "outputs": [
        {
          "output_type": "stream",
          "name": "stdout",
          "text": [
            "What is the value on 2nd-row 3rd-column?  tensor(23)\n",
            "What is the value on 2nd-row 3rd-column?  tensor(23)\n"
          ]
        }
      ],
      "source": [
        "# Use tensor_obj[row, column] and tensor_obj[row][column] to access certain position\n",
        "\n",
        "tensor_example = torch.tensor([[11, 12, 13], [21, 22, 23], [31, 32, 33]])\n",
        "print(\"What is the value on 2nd-row 3rd-column? \", tensor_example[1, 2])\n",
        "print(\"What is the value on 2nd-row 3rd-column? \", tensor_example[1][2])"
      ],
      "execution_count": 9
    },
    {
      "cell_type": "markdown",
      "metadata": {
        "id": "cd84e4fe-2d47-4069-8e9d-d41e47779d51"
      },
      "source": [
        "As we can see, both methods return the true value (the same value as the picture above). Therefore, both of the methods work.\n"
      ]
    },
    {
      "cell_type": "markdown",
      "metadata": {
        "id": "d4c51635-e567-4d9c-8b8e-27075515e321"
      },
      "source": [
        "<!--Empty Space for separating topics-->\n"
      ]
    },
    {
      "cell_type": "markdown",
      "metadata": {
        "id": "47a9d223-9f67-417b-bb32-0dadc92947d5"
      },
      "source": [
        "Consider the elements shown in the following figure: \n"
      ]
    },
    {
      "cell_type": "markdown",
      "metadata": {
        "id": "e4eadfcb-fc6a-48be-974e-a6f2b397348b"
      },
      "source": [
        "<img src=\"https://s3-api.us-geo.objectstorage.softlayer.net/cf-courses-data/CognitiveClass/DL0110EN/notebook_images%20/chapter%201/1.2_index2.png\" width=\"500\" alt=\"Example of Matrix Index\">\n"
      ]
    },
    {
      "cell_type": "markdown",
      "metadata": {
        "id": "b293c06e-5ddc-4609-bc5a-0b5306758919"
      },
      "source": [
        "Use the method above, we can access the 1st-row 1st-column by <code>tensor_example[0][0]</code>\n"
      ]
    },
    {
      "cell_type": "code",
      "metadata": {
        "colab": {
          "base_uri": "https://localhost:8080/"
        },
        "id": "7dc36d4a-7683-49df-ba82-6a4954b9a1d0",
        "outputId": "a0c77a54-9bcf-4bfe-b381-40b28dd6eb9f"
      },
      "outputs": [
        {
          "output_type": "execute_result",
          "data": {
            "text/plain": [
              "tensor(11)"
            ]
          },
          "metadata": {},
          "execution_count": 10
        }
      ],
      "source": [
        "tensor_example[0][0]"
      ],
      "execution_count": 10
    },
    {
      "cell_type": "markdown",
      "metadata": {
        "id": "6b899004-822e-44b8-a5dd-e1519185bf23"
      },
      "source": [
        "But what if we want to get the value on both 1st-row 1st-column and 1st-row 2nd-column?\n"
      ]
    },
    {
      "cell_type": "markdown",
      "metadata": {
        "id": "50a887b9-39c5-4acc-9852-15810d3247d7"
      },
      "source": [
        "You can also use slicing in a tensor. Consider the following figure. You want to obtain the 1st two columns in the 1st row:  \n"
      ]
    },
    {
      "cell_type": "markdown",
      "metadata": {
        "id": "09fd60fd-4866-4115-8ac4-1ff80e175cfb"
      },
      "source": [
        "<img src=\"https://s3-api.us-geo.objectstorage.softlayer.net/cf-courses-data/CognitiveClass/DL0110EN/notebook_images%20/chapter%201/1.2sliceing.png\" width=\"500\" alt=\"Example of Matrix Index and Slicing\">\n"
      ]
    },
    {
      "cell_type": "markdown",
      "metadata": {
        "id": "b16aaaa3-e4ea-4798-beff-d4e3c9531cca"
      },
      "source": [
        "## Let us see how  we use slicing with 2D tensors to get the values in the above picture.\n"
      ]
    },
    {
      "cell_type": "code",
      "metadata": {
        "colab": {
          "base_uri": "https://localhost:8080/"
        },
        "id": "fd895c6c-bcb3-4891-b6c0-6616b4318699",
        "outputId": "d9aca959-da73-403b-dbdb-ce186745fb5c"
      },
      "outputs": [
        {
          "output_type": "stream",
          "name": "stdout",
          "text": [
            "What is the value on 1st-row first two columns?  tensor([11, 12])\n",
            "What is the value on 1st-row first two columns?  tensor([11, 12])\n"
          ]
        }
      ],
      "source": [
        "# Use tensor_obj[begin_row_number: end_row_number, begin_column_number: end_column number] \n",
        "# and tensor_obj[row][begin_column_number: end_column number] to do the slicing\n",
        "\n",
        "tensor_example = torch.tensor([[11, 12, 13], [21, 22, 23], [31, 32, 33]])\n",
        "print(\"What is the value on 1st-row first two columns? \", tensor_example[0, 0:2])\n",
        "print(\"What is the value on 1st-row first two columns? \", tensor_example[0][0:2])"
      ],
      "execution_count": 11
    },
    {
      "cell_type": "markdown",
      "metadata": {
        "id": "c5a649ea-724f-4bc2-afc8-eb08168612fc"
      },
      "source": [
        "We get the result as <code>tensor([11, 12])</code> successfully.\n"
      ]
    },
    {
      "cell_type": "markdown",
      "metadata": {
        "id": "16671d3f-e066-43c1-afca-8d8efbcfd63c"
      },
      "source": [
        "<!--Empty Space for separating topics-->\n"
      ]
    },
    {
      "cell_type": "markdown",
      "metadata": {
        "id": "7f4b3955-1fca-4e67-be8b-be1f06170c7b"
      },
      "source": [
        "But we <b>can't</b> combine using slicing on row and pick one column by using the code <code>tensor_obj[begin_row_number: end_row_number][begin_column_number: end_column number]</code>. The reason is that the slicing will be applied on the tensor first. The result type will be a two dimension again. The second bracket will no longer represent the index of the column it will be the index of the row at that time. Let us see an example. \n"
      ]
    },
    {
      "cell_type": "code",
      "metadata": {
        "colab": {
          "base_uri": "https://localhost:8080/"
        },
        "id": "39b90761-fc95-4005-894b-ce20fd7fa38b",
        "outputId": "244991ac-4c42-4e7b-b817-9b49d767cc55"
      },
      "outputs": [
        {
          "output_type": "stream",
          "name": "stdout",
          "text": [
            "1. Slicing step on tensor_example: \n",
            "Result after tensor_example[1:3]:  tensor([[21, 22, 23],\n",
            "        [31, 32, 33]])\n",
            "Dimension after tensor_example[1:3]:  2\n",
            "================================================\n",
            "2. Pick an index on sliced_tensor_example: \n",
            "Result after sliced_tensor_example[1]:  tensor([31, 32, 33])\n",
            "Dimension after sliced_tensor_example[1]:  1\n",
            "================================================\n",
            "3. Combine these step together:\n",
            "Result:  tensor([31, 32, 33])\n",
            "Dimension:  1\n"
          ]
        }
      ],
      "source": [
        "# Give an idea on tensor_obj[number: number][number]\n",
        "\n",
        "tensor_example = torch.tensor([[11, 12, 13], [21, 22, 23], [31, 32, 33]])\n",
        "sliced_tensor_example = tensor_example[1:3]\n",
        "print(\"1. Slicing step on tensor_example: \")\n",
        "print(\"Result after tensor_example[1:3]: \", sliced_tensor_example)\n",
        "print(\"Dimension after tensor_example[1:3]: \", sliced_tensor_example.ndimension())\n",
        "print(\"================================================\")\n",
        "print(\"2. Pick an index on sliced_tensor_example: \")\n",
        "print(\"Result after sliced_tensor_example[1]: \", sliced_tensor_example[1])\n",
        "print(\"Dimension after sliced_tensor_example[1]: \", sliced_tensor_example[1].ndimension())\n",
        "print(\"================================================\")\n",
        "print(\"3. Combine these step together:\")\n",
        "print(\"Result: \", tensor_example[1:3][1])\n",
        "print(\"Dimension: \", tensor_example[1:3][1].ndimension())"
      ],
      "execution_count": 12
    },
    {
      "cell_type": "markdown",
      "metadata": {
        "id": "6120bfff-3141-4607-b93b-1073dbcbb2eb"
      },
      "source": [
        "See the results and dimensions in 2 and 3 are the same. Both of them contains the 3rd row in the <code>tensor_example</code>, but not the last two values in the 3rd column.\n"
      ]
    },
    {
      "cell_type": "markdown",
      "metadata": {
        "id": "6f11c9b1-1a84-4486-85ed-32103e3d3124"
      },
      "source": [
        "<!--Empty Space for separating topics-->\n"
      ]
    },
    {
      "cell_type": "markdown",
      "metadata": {
        "id": "ebcee3e5-9a1b-46d5-9c1a-562b9c4907e0"
      },
      "source": [
        "So how can we get the elements in the 3rd column with the last two rows? As the below picture.\n"
      ]
    },
    {
      "cell_type": "markdown",
      "metadata": {
        "id": "5d8b85ed-9f00-4e13-8fa3-966e57e84d59"
      },
      "source": [
        "<img src=\"https://s3-api.us-geo.objectstorage.softlayer.net/cf-courses-data/CognitiveClass/DL0110EN/notebook_images%20/chapter%201/1.2slicing2.png\" width=\"500\" alt=\"Example of Matrix Index and Slicing\">\n"
      ]
    },
    {
      "cell_type": "markdown",
      "metadata": {
        "id": "3ea3430c-9d8f-49ac-bce1-8f412da24890"
      },
      "source": [
        "Let's see the code below.\n"
      ]
    },
    {
      "cell_type": "code",
      "metadata": {
        "colab": {
          "base_uri": "https://localhost:8080/"
        },
        "id": "a511180a-6e97-419b-8eb3-55ab4e4b4ddc",
        "outputId": "59a050c3-70da-44c3-9639-6a4cd0f158a4"
      },
      "outputs": [
        {
          "output_type": "stream",
          "name": "stdout",
          "text": [
            "What is the value on 3rd-column last two rows?  tensor([23, 33])\n"
          ]
        }
      ],
      "source": [
        "# Use tensor_obj[begin_row_number: end_row_number, begin_column_number: end_column number] \n",
        "\n",
        "tensor_example = torch.tensor([[11, 12, 13], [21, 22, 23], [31, 32, 33]])\n",
        "print(\"What is the value on 3rd-column last two rows? \", tensor_example[1:3, 2])"
      ],
      "execution_count": 13
    },
    {
      "cell_type": "markdown",
      "metadata": {
        "id": "3d6db9b3-d5a4-4352-8657-cb844fc8348e"
      },
      "source": [
        "Fortunately, the code <code>tensor_obj[begin_row_number: end_row_number, begin_column_number: end_column number]</code> is still works.\n"
      ]
    },
    {
      "cell_type": "markdown",
      "metadata": {
        "id": "271f8714-93dc-4686-b356-6b1b7cd4c47e"
      },
      "source": [
        "<!--Empty Space for separating topics-->\n"
      ]
    },
    {
      "cell_type": "markdown",
      "metadata": {
        "id": "d3a5e599-4ee8-485c-9b21-75ab7e8222e4"
      },
      "source": [
        "<h3>Assignment</h3>\n"
      ]
    },
    {
      "cell_type": "markdown",
      "metadata": {
        "id": "7da52e57-f9d5-4bbc-9386-b585f61810b4"
      },
      "source": [
        "Try to change the values on the second column and the last two rows to 0. Basically, change the values on <code>tensor_ques[1][1]</code> and <code>tensor_ques[2][1]</code> to 0.\n"
      ]
    },
    {
      "cell_type": "code",
      "metadata": {
        "colab": {
          "base_uri": "https://localhost:8080/"
        },
        "id": "b7cd6187-1c0e-4834-95f5-a76b34bee9fc",
        "outputId": "9854268e-63c2-445a-a230-b5e8240e4fbf"
      },
      "outputs": [
        {
          "output_type": "stream",
          "name": "stdout",
          "text": [
            "tensor([[11, 12, 13],\n",
            "        [21,  0, 23],\n",
            "        [31,  0, 33]])\n"
          ]
        }
      ],
      "source": [
        "# Practice: Use slice and index to change the values on the matrix tensor_ques.\n",
        "\n",
        "tensor_ques = torch.tensor([[11, 12, 13], [21, 22, 23], [31, 32, 33]])\n",
        "tensor_ques[1,1] = 0\n",
        "tensor_ques[2,1] = 0\n",
        "print(tensor_ques)"
      ],
      "execution_count": 14
    },
    {
      "cell_type": "markdown",
      "metadata": {
        "id": "f6fac049-c850-4e7c-86bf-d44725f8365c"
      },
      "source": [
        "<h2 id=\"Tensor_Op\">Tensor Operations</h2> \n"
      ]
    },
    {
      "cell_type": "markdown",
      "metadata": {
        "id": "52e35f37-2b9e-46a6-9e44-22fd127a9103"
      },
      "source": [
        "We can also do some calculations on 2D tensors.\n"
      ]
    },
    {
      "cell_type": "markdown",
      "metadata": {
        "id": "4e7fb0ad-0294-4e6c-8c74-31aa583037ed"
      },
      "source": [
        "<h3>Tensor Addition</h3>\n"
      ]
    },
    {
      "cell_type": "markdown",
      "metadata": {
        "id": "6e1b28df-eec7-444f-a924-65b6e4a947a6"
      },
      "source": [
        "You can also add tensors; the process is identical to matrix addition. Matrix addition of <b>X</b> and <b>Y</b> is shown in the following figure:\n"
      ]
    },
    {
      "cell_type": "markdown",
      "metadata": {
        "id": "9f0f7b5e-c1fa-4b6b-999e-d45e3fbbfcb6"
      },
      "source": [
        "<img src=\"https://s3-api.us-geo.objectstorage.softlayer.net/cf-courses-data/CognitiveClass/DL0110EN/notebook_images%20/chapter%201/1.2add.png\" width=\"500\" alt=\"Tensor Addition in 2D\">\n"
      ]
    },
    {
      "cell_type": "markdown",
      "metadata": {
        "id": "e56b3ffc-cb63-4dfa-89f6-1f12abcd012e"
      },
      "source": [
        "Let us see how tensor addition works with <code>X</code> and <code>Y</code>.\n"
      ]
    },
    {
      "cell_type": "code",
      "metadata": {
        "colab": {
          "base_uri": "https://localhost:8080/"
        },
        "id": "4ba907d5-a81e-43fd-bc93-8c1643a0c29a",
        "outputId": "69982a0e-c8e2-476b-8058-18df5c6dd495"
      },
      "outputs": [
        {
          "output_type": "stream",
          "name": "stdout",
          "text": [
            "The result of X + Y:  tensor([[3, 1],\n",
            "        [1, 3]])\n"
          ]
        }
      ],
      "source": [
        "# Calculate [[1, 0], [0, 1]] + [[2, 1], [1, 2]]\n",
        "\n",
        "X = torch.tensor([[1, 0],[0, 1]]) \n",
        "Y = torch.tensor([[2, 1],[1, 2]])\n",
        "X_plus_Y = X + Y\n",
        "print(\"The result of X + Y: \", X_plus_Y)"
      ],
      "execution_count": 16
    },
    {
      "cell_type": "markdown",
      "metadata": {
        "id": "7fdbbef3-3cc4-4ed1-9e2a-429e662512b2"
      },
      "source": [
        "Like the result shown in the picture above. The result is <code>[[3, 1], [1, 3]]</code>\n"
      ]
    },
    {
      "cell_type": "markdown",
      "metadata": {
        "id": "e1ae84b6-1bd5-4e65-a4b7-fff3f6ccfabb"
      },
      "source": [
        "<!--Empty Space for separating topics-->\n"
      ]
    },
    {
      "cell_type": "markdown",
      "metadata": {
        "id": "529e2b21-77a8-40e3-af37-95ca5c9244a7"
      },
      "source": [
        "<h3> Scalar Multiplication </h3>\n"
      ]
    },
    {
      "cell_type": "markdown",
      "metadata": {
        "id": "1047320c-2b11-495e-846e-5aec394c6bb1"
      },
      "source": [
        "Multiplying a tensor by a scalar is identical to multiplying a matrix by a scaler. If you multiply the matrix <b>Y</b> by the scalar 2, you simply multiply every element in the matrix by 2 as shown in the figure:\n"
      ]
    },
    {
      "cell_type": "markdown",
      "metadata": {
        "id": "e617bee7-d017-484d-ad20-274432acd39d"
      },
      "source": [
        "<img src=\"https://s3-api.us-geo.objectstorage.softlayer.net/cf-courses-data/CognitiveClass/DL0110EN/notebook_images%20/chapter%201/1.2scaller_mult.png\" width=\"500\" alt=\"The product of tensor and scalar\">\n"
      ]
    },
    {
      "cell_type": "markdown",
      "metadata": {
        "id": "d8f29647-596f-432d-8af9-84c9ba3f2aae"
      },
      "source": [
        "Let us try to calculate the product of <b>2Y</b>.\n"
      ]
    },
    {
      "cell_type": "code",
      "metadata": {
        "colab": {
          "base_uri": "https://localhost:8080/"
        },
        "id": "c8588c7e-2cb9-4cae-9e94-2f083ff1dc4a",
        "outputId": "a2ba8cda-9054-4325-ab49-5143d5b7c640"
      },
      "outputs": [
        {
          "output_type": "stream",
          "name": "stdout",
          "text": [
            "The result of 2Y:  tensor([[4, 2],\n",
            "        [2, 4]])\n"
          ]
        }
      ],
      "source": [
        "# Calculate 2 * [[2, 1], [1, 2]]\n",
        "\n",
        "Y = torch.tensor([[2, 1], [1, 2]]) \n",
        "two_Y = 2 * Y\n",
        "print(\"The result of 2Y: \", two_Y)"
      ],
      "execution_count": 17
    },
    {
      "cell_type": "markdown",
      "metadata": {
        "id": "883b4a89-5c17-469d-945b-a1c65a06af7f"
      },
      "source": [
        "<!--Empty Space for separating topics-->\n"
      ]
    },
    {
      "cell_type": "markdown",
      "metadata": {
        "id": "4ef844fa-c021-43dd-a232-82607d3d7007"
      },
      "source": [
        "<h3>Element-wise Product/Hadamard Product</h3>\n"
      ]
    },
    {
      "cell_type": "markdown",
      "metadata": {
        "id": "26c9f4d5-f48d-41ec-9c27-eb3f16e6db78"
      },
      "source": [
        "Multiplication of two tensors corresponds to an element-wise product or Hadamard product.  Consider matrix the <b>X</b> and <b>Y</b> with the same size. The Hadamard product corresponds to multiplying each of the elements at the same position, that is, multiplying elements with the same color together. The result is a new matrix that is the same size as matrix <b>X</b> and <b>Y</b> as shown in the following figure:\n"
      ]
    },
    {
      "cell_type": "markdown",
      "metadata": {
        "id": "02096562-90ff-4d7b-a330-0e4cbe8fac42"
      },
      "source": [
        " <a><img src=\"https://s3-api.us-geo.objectstorage.softlayer.net/cf-courses-data/CognitiveClass/DL0110EN/notebook_images%20/chapter%201/1.2tensor_pruduct.png\" width=\"500\" align=\"center\"> </a>\n"
      ]
    },
    {
      "cell_type": "markdown",
      "metadata": {
        "id": "8a4f126d-f88c-45ca-ab4d-f946284d7e82"
      },
      "source": [
        "The code below calculates the element-wise product of the tensor <strong>X</strong> and <strong>Y</strong>:\n"
      ]
    },
    {
      "cell_type": "code",
      "metadata": {
        "id": "4b6d16f5-1da3-4553-8da4-43f1ce46bcc8"
      },
      "outputs": [],
      "source": [
        "# Calculate [[1, 0], [0, 1]] * [[2, 1], [1, 2]]\n",
        "\n",
        "X = torch.tensor([[1, 0], [0, 1]])\n",
        "Y = torch.tensor([[2, 1], [1, 2]]) \n",
        "X_times_Y = X * Y\n",
        "print(\"The result of X * Y: \", X_times_Y)"
      ],
      "execution_count": null
    },
    {
      "cell_type": "markdown",
      "metadata": {
        "id": "cd011fe4-6897-4d69-9eae-a50587a3eea2"
      },
      "source": [
        "This is a simple calculation. The result from the code matches the result shown in the picture.\n"
      ]
    },
    {
      "cell_type": "markdown",
      "metadata": {
        "id": "bc2cc0bc-3c59-4da5-af37-f58b95faf400"
      },
      "source": [
        "<h3>Matrix Multiplication </h3>\n"
      ]
    },
    {
      "cell_type": "markdown",
      "metadata": {
        "id": "70c7a51a-0a08-407c-b973-3abc5a43ca05"
      },
      "source": [
        "We can also apply matrix multiplication to two tensors, if you have learned linear algebra, you should know that in the multiplication of two matrices order matters. This means if <i>X * Y</i> is valid, it does not mean <i>Y * X</i> is valid. The number of columns of the matrix on the left side of the multiplication sign must equal to the number of rows of the matrix on the right side.\n"
      ]
    },
    {
      "cell_type": "markdown",
      "metadata": {
        "id": "7cbaf48f-2388-4860-9e6f-df145005f304"
      },
      "source": [
        "First, let us create a tensor <code>X</code> with size 2X3. Then, let us create another tensor <code>Y</code> with size 3X2. Since the number of columns of <code>X</code> is equal to the number of rows of <code>Y</code>. We are able to perform the multiplication.\n"
      ]
    },
    {
      "cell_type": "markdown",
      "metadata": {
        "id": "59a1e8cc-2717-438d-8c5c-60f66bb3d6a6"
      },
      "source": [
        "We use <code>torch.mm()</code> for calculating the multiplication between tensors with different sizes.\n"
      ]
    },
    {
      "cell_type": "code",
      "metadata": {
        "colab": {
          "base_uri": "https://localhost:8080/"
        },
        "id": "3fc5ad35-82e1-4c44-b65d-f6ef17dee7d7",
        "outputId": "3dac0161-a913-451c-daf8-69f5c217545b"
      },
      "outputs": [
        {
          "output_type": "stream",
          "name": "stdout",
          "text": [
            "The result of A * B:  tensor([[0, 2],\n",
            "        [0, 2]])\n"
          ]
        }
      ],
      "source": [
        "# Calculate [[0, 1, 1], [1, 0, 1]] * [[1, 1], [1, 1], [-1, 1]]\n",
        "\n",
        "A = torch.tensor([[0, 1, 1], [1, 0, 1]])\n",
        "B = torch.tensor([[1, 1], [1, 1], [-1, 1]])\n",
        "A_times_B = torch.mm(A,B)\n",
        "print(\"The result of A * B: \", A_times_B)"
      ],
      "execution_count": 18
    },
    {
      "cell_type": "markdown",
      "metadata": {
        "id": "e8d8648d-d8d6-4f10-80ea-28138028b4d3"
      },
      "source": [
        "<h3>Assignment</h3>\n"
      ]
    },
    {
      "cell_type": "markdown",
      "metadata": {
        "id": "14b25efd-5ac9-441f-af34-7bcaf829f044"
      },
      "source": [
        "Try to create your own two tensors (<code>X</code> and <code>Y</code>) with different sizes, and multiply them.\n"
      ]
    },
    {
      "cell_type": "code",
      "metadata": {
        "colab": {
          "base_uri": "https://localhost:8080/"
        },
        "id": "b48ab9d2-2837-4150-855e-ecf785a425cd",
        "outputId": "5e64cb84-7e0d-45d7-9063-d45d1009f008"
      },
      "outputs": [
        {
          "output_type": "execute_result",
          "data": {
            "text/plain": [
              "tensor([[ 22,  28,  34,  19],\n",
              "        [ 40,  52,  64,  33],\n",
              "        [ 67,  88, 109,  54]])"
            ]
          },
          "metadata": {},
          "execution_count": 21
        }
      ],
      "source": [
        "# Practice: Calculate the product of two tensors (X and Y) with different sizes \n",
        "X = torch.tensor([[1,2,3], [3,4,5], [6,7,8]])\n",
        "Y = torch.tensor([[1,2,3,0], [3,4,5,2], [5,6,7,5]])\n",
        "Z = torch.mm(X,Y)\n",
        "Z"
      ],
      "execution_count": 21
    }
  ],
  "metadata": {
    "kernelspec": {
      "display_name": "Python",
      "language": "python",
      "name": "conda-env-python-py"
    },
    "language_info": {
      "name": ""
    },
    "colab": {
      "provenance": []
    }
  },
  "nbformat": 4,
  "nbformat_minor": 0
}