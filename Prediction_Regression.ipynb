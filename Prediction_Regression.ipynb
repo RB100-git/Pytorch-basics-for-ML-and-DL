{
  "cells": [
    {
      "cell_type": "markdown",
      "metadata": {
        "id": "332c115a-11c4-4913-9bb8-beabcf9773a3"
      },
      "source": [
        "<h1>Linear Regression 1D: Prediction</h1>\n"
      ]
    },
    {
      "cell_type": "markdown",
      "metadata": {
        "id": "654f6c80-0b50-4b11-b9ee-955db565e3f6"
      },
      "source": [
        "<h2>Objective</h2><ul><li> How to make the prediction for multiple inputs.</li><li> How to use linear class to build more complex models.</li><li> How to build a custom module.</li></ul> \n"
      ]
    },
    {
      "cell_type": "markdown",
      "metadata": {
        "id": "248d9762-5f11-4a18-a18c-4abfb5137493"
      },
      "source": [
        "<h2>Preparation</h2>\n"
      ]
    },
    {
      "cell_type": "markdown",
      "metadata": {
        "id": "20bd4bd5-efe0-4ced-86b1-449581f9b6b3"
      },
      "source": [
        "The following are the libraries we are going to use for this lab.\n"
      ]
    },
    {
      "cell_type": "code",
      "metadata": {
        "id": "4c2243a2-dd95-4787-b8d2-546c7b57f169"
      },
      "outputs": [],
      "source": [
        "# These are the libraries will be used for this lab.\n",
        "\n",
        "import torch"
      ],
      "execution_count": 33
    },
    {
      "cell_type": "markdown",
      "metadata": {
        "id": "85b7e34e-5ea6-47d7-b1a3-d7bef4bf4fba"
      },
      "source": [
        "<!--Empty Space for separating topics-->\n"
      ]
    },
    {
      "cell_type": "markdown",
      "metadata": {
        "id": "083a62e3-2e15-4654-8b8d-9d825d6a553f"
      },
      "source": [
        "<h2 id=\"Prediction\">Prediction</h2>\n"
      ]
    },
    {
      "cell_type": "markdown",
      "metadata": {
        "id": "7ee734d6-5b29-418d-bfc8-c00ef50b0658"
      },
      "source": [
        "Let us create the following expressions:\n"
      ]
    },
    {
      "cell_type": "markdown",
      "metadata": {
        "id": "f8513cbb-2cfc-422c-9332-37c6cb72da4b"
      },
      "source": [
        "$b=-1,w=2$\n",
        "\n",
        "$\\hat{y}=-1+2x$\n"
      ]
    },
    {
      "cell_type": "markdown",
      "metadata": {
        "id": "487f23a0-121d-4e64-87eb-d92a0e24712e"
      },
      "source": [
        "First, define the parameters:\n"
      ]
    },
    {
      "cell_type": "code",
      "metadata": {
        "id": "b72ae75b-5900-4213-a4e1-f17ba9a25e50"
      },
      "outputs": [],
      "source": [
        "# Define w = 2 and b = -1 for y = wx + b\n",
        "\n",
        "w = torch.tensor(2.0, requires_grad = True)\n",
        "b = torch.tensor(-1.0, requires_grad = True)"
      ],
      "execution_count": 34
    },
    {
      "cell_type": "markdown",
      "metadata": {
        "id": "eb443bd2-3f02-42ac-8739-99aaa848fcff"
      },
      "source": [
        "Then, define the function <code>forward(x, w, b)</code> makes the prediction: \n"
      ]
    },
    {
      "cell_type": "code",
      "metadata": {
        "id": "4ba83527-8bf4-42e0-a6b8-3965c3526384"
      },
      "outputs": [],
      "source": [
        "# Function forward(x) for prediction\n",
        "\n",
        "def forward(x):\n",
        "    yhat = w * x + b\n",
        "    return yhat"
      ],
      "execution_count": 35
    },
    {
      "cell_type": "markdown",
      "metadata": {
        "id": "96a01071-6a0c-47a2-8003-94744b5394df"
      },
      "source": [
        "Let's make the following prediction at <i>x = 1</i>\n"
      ]
    },
    {
      "cell_type": "markdown",
      "metadata": {
        "id": "78f1d865-24e4-4e6a-b8fa-b462cc3de3eb"
      },
      "source": [
        "$\\hat{y}=-1+2x$\n",
        "\n",
        "$\\hat{y}=-1+2(1)$\n"
      ]
    },
    {
      "cell_type": "code",
      "metadata": {
        "colab": {
          "base_uri": "https://localhost:8080/"
        },
        "id": "ed8a164e-f0f6-421a-938f-1a50e4235812",
        "outputId": "7a68af13-e3ed-4b6e-b7cb-326840ae31f8"
      },
      "outputs": [
        {
          "output_type": "stream",
          "name": "stdout",
          "text": [
            "The prediction:  tensor([[1.]], grad_fn=<AddBackward0>)\n"
          ]
        }
      ],
      "source": [
        "# Predict y = 2x - 1 at x = 1\n",
        "\n",
        "x = torch.tensor([[1.0]])\n",
        "yhat = forward(x)\n",
        "print(\"The prediction: \", yhat)"
      ],
      "execution_count": 36
    },
    {
      "cell_type": "markdown",
      "metadata": {
        "id": "9309f20b-8752-4462-9277-d1831090728c"
      },
      "source": [
        "<!--Empty Space for separating topics-->\n"
      ]
    },
    {
      "cell_type": "markdown",
      "metadata": {
        "id": "8c8d6bc6-8887-4f41-b84f-bb54d85c913e"
      },
      "source": [
        "Now, let us try to make the prediction for multiple inputs:\n"
      ]
    },
    {
      "cell_type": "markdown",
      "metadata": {
        "id": "80d5466c-6681-4d23-b48e-3f8977f35640"
      },
      "source": [
        "<img src=\"https://s3-api.us-geo.objectstorage.softlayer.net/cf-courses-data/CognitiveClass/DL0110EN/notebook_images%20/chapter2/2.1.2.png\" width=\"500\" alt=\"Linear Regression Multiple Input Samples\">\n"
      ]
    },
    {
      "cell_type": "markdown",
      "metadata": {
        "id": "7d4d94b1-1491-4fdd-85ef-6d673cb0996c"
      },
      "source": [
        "Let us construct the <code>x</code> tensor first. Check the shape of <code>x</code>.\n"
      ]
    },
    {
      "cell_type": "code",
      "metadata": {
        "colab": {
          "base_uri": "https://localhost:8080/"
        },
        "id": "a1e12d81-f682-467a-8df6-2e7f49271f1c",
        "outputId": "d80a6a9d-6bcc-490d-d2f4-29e8fb58c07b"
      },
      "outputs": [
        {
          "output_type": "stream",
          "name": "stdout",
          "text": [
            "The shape of x:  torch.Size([2, 1])\n"
          ]
        }
      ],
      "source": [
        "# Create x Tensor and check the shape of x tensor\n",
        "\n",
        "x = torch.tensor([[1.0], [2.0]])\n",
        "print(\"The shape of x: \", x.shape)"
      ],
      "execution_count": 37
    },
    {
      "cell_type": "markdown",
      "metadata": {
        "id": "791177ac-d56c-46d9-b3c2-4b0c9ba38f41"
      },
      "source": [
        "Now make the prediction: \n"
      ]
    },
    {
      "cell_type": "code",
      "metadata": {
        "colab": {
          "base_uri": "https://localhost:8080/"
        },
        "id": "77083b4c-8dc3-40d1-a718-1401eec37467",
        "outputId": "ffba18e0-30c5-4d94-99b2-bdbf095bd909"
      },
      "outputs": [
        {
          "output_type": "stream",
          "name": "stdout",
          "text": [
            "The prediction:  tensor([[1.],\n",
            "        [3.]], grad_fn=<AddBackward0>)\n"
          ]
        }
      ],
      "source": [
        "# Make the prediction of y = 2x - 1 at x = [1, 2]\n",
        "\n",
        "yhat = forward(x)\n",
        "print(\"The prediction: \", yhat)"
      ],
      "execution_count": 38
    },
    {
      "cell_type": "markdown",
      "metadata": {
        "id": "2285e633-f556-4d70-bdea-2ebb21985b7d"
      },
      "source": [
        "The result is the same as what it is in the image above.\n"
      ]
    },
    {
      "cell_type": "markdown",
      "metadata": {
        "id": "440bfede-a3f7-43bc-9368-438e56e76c94"
      },
      "source": [
        "<!--Empty Space for separating topics-->\n"
      ]
    },
    {
      "cell_type": "markdown",
      "metadata": {
        "id": "0301f20c-9012-46a2-99eb-a4d5414125f2"
      },
      "source": [
        "<h3>Practice</h3>\n"
      ]
    },
    {
      "cell_type": "markdown",
      "metadata": {
        "id": "eb11ed1e-240a-4b8e-aaaf-cdb6b069c69e"
      },
      "source": [
        "Make a prediction of the following <code>x</code> tensor using the <code>w</code> and <code>b</code> from above.\n"
      ]
    },
    {
      "cell_type": "code",
      "metadata": {
        "colab": {
          "base_uri": "https://localhost:8080/"
        },
        "id": "9cefc60f-4b1a-45d9-9bb6-6b564a074f3f",
        "outputId": "48e38e51-1976-4d4c-b8bc-271ed43ed78f"
      },
      "outputs": [
        {
          "output_type": "stream",
          "name": "stdout",
          "text": [
            "tensor([[1.],\n",
            "        [3.],\n",
            "        [5.]], grad_fn=<AddBackward0>)\n"
          ]
        }
      ],
      "source": [
        "# Practice: Make a prediction of y = 2x - 1 at x = [[1.0], [2.0], [3.0]]\n",
        "\n",
        "x = torch.tensor([[1.0], [2.0], [3.0]])\n",
        "yhat = forward(x)\n",
        "print(yhat)"
      ],
      "execution_count": 39
    },
    {
      "cell_type": "markdown",
      "metadata": {
        "id": "df89e2da-1b7b-41a4-8d97-345c416537ec"
      },
      "source": [
        "<!--Empty Space for separating topics-->\n"
      ]
    },
    {
      "cell_type": "markdown",
      "metadata": {
        "id": "f0d9c295-a96f-457d-a689-242641e571a1"
      },
      "source": [
        "<h2 id=\"Linear\">Class Linear</h2>\n"
      ]
    },
    {
      "cell_type": "markdown",
      "metadata": {
        "id": "bc1f3099-5481-441f-8b35-b2f6b11647bc"
      },
      "source": [
        "The linear class can be used to make a prediction. We can also use the linear class to build more complex models. Let's import the module:\n"
      ]
    },
    {
      "cell_type": "code",
      "metadata": {
        "id": "7af58173-a1d7-4182-b0d5-5e03e691b449"
      },
      "outputs": [],
      "source": [
        "# Import Class Linear\n",
        "\n",
        "from torch.nn import Linear"
      ],
      "execution_count": 40
    },
    {
      "cell_type": "markdown",
      "metadata": {
        "id": "5079ce70-8b7d-429c-ae31-ea935c422115"
      },
      "source": [
        "Set the random seed because the parameters are randomly initialized:\n"
      ]
    },
    {
      "cell_type": "code",
      "metadata": {
        "colab": {
          "base_uri": "https://localhost:8080/"
        },
        "id": "445a7b1d-6e02-4f96-8369-a02b78591bd5",
        "outputId": "a139b41e-d3bb-484c-8c9b-b8d3dadecdce"
      },
      "outputs": [
        {
          "output_type": "execute_result",
          "data": {
            "text/plain": [
              "<torch._C.Generator at 0x7fd87411fbb0>"
            ]
          },
          "metadata": {},
          "execution_count": 41
        }
      ],
      "source": [
        "# Set random seed\n",
        "torch.manual_seed(1)"
      ],
      "execution_count": 41
    },
    {
      "cell_type": "markdown",
      "metadata": {
        "id": "d8cb7e63-242e-480e-85b8-14fd6f6091f0"
      },
      "source": [
        "<!--Empty Space for separating topics-->\n"
      ]
    },
    {
      "cell_type": "markdown",
      "metadata": {
        "id": "61a1c98b-4bfd-4ce0-8796-1c70f33f8e83"
      },
      "source": [
        "Let us create the linear object by using the constructor. The parameters are randomly created. Let us print out to see what <i>w</i> and <i>b</i>. The parameters of an <code>torch.nn.Module</code> model are contained in the model’s parameters accessed with <code>lr.parameters()</code>:\n"
      ]
    },
    {
      "cell_type": "code",
      "metadata": {
        "colab": {
          "base_uri": "https://localhost:8080/"
        },
        "id": "07294c76-860e-4d38-819d-4c91c638db5a",
        "outputId": "eb33d101-a47b-46b5-ebf9-a55adc148b0b"
      },
      "outputs": [
        {
          "output_type": "stream",
          "name": "stdout",
          "text": [
            "Parameters w and b:  [Parameter containing:\n",
            "tensor([[0.5153]], requires_grad=True), Parameter containing:\n",
            "tensor([-0.4414], requires_grad=True)]\n"
          ]
        }
      ],
      "source": [
        "# Create Linear Regression Model, and print out the parameters\n",
        "\n",
        "lr = Linear(in_features=1, out_features=1, bias=True)\n",
        "print(\"Parameters w and b: \", list(lr.parameters()))\n"
      ],
      "execution_count": 42
    },
    {
      "cell_type": "markdown",
      "metadata": {
        "id": "9a32c96d-2b5b-4580-9b12-088df636ca6c"
      },
      "source": [
        "This is equivalent to the following expression:  \n"
      ]
    },
    {
      "cell_type": "markdown",
      "metadata": {
        "id": "d1d22890-7e96-4df8-94e7-a7c58d07b474"
      },
      "source": [
        "$b=-0.44, w=0.5153$\n",
        "\n",
        "$\\hat{y}=-0.44+0.5153x$\n"
      ]
    },
    {
      "cell_type": "markdown",
      "metadata": {
        "id": "8ed41cb0-6f84-4048-82a5-5d591211da2c"
      },
      "source": [
        "A method  <code>state_dict()</code> Returns a Python dictionary object corresponding to the layers of each parameter  tensor. \n"
      ]
    },
    {
      "cell_type": "code",
      "metadata": {
        "colab": {
          "base_uri": "https://localhost:8080/"
        },
        "id": "3a2f0211-4181-4f2b-8692-16c44dd91ee3",
        "outputId": "0e7a4bd9-42f1-478e-b05d-ac0f278b4147"
      },
      "outputs": [
        {
          "output_type": "stream",
          "name": "stdout",
          "text": [
            "Python dictionary:  OrderedDict([('weight', tensor([[0.5153]])), ('bias', tensor([-0.4414]))])\n",
            "keys:  odict_keys(['weight', 'bias'])\n",
            "values:  odict_values([tensor([[0.5153]]), tensor([-0.4414])])\n"
          ]
        }
      ],
      "source": [
        "print(\"Python dictionary: \",lr.state_dict())\n",
        "print(\"keys: \",lr.state_dict().keys())\n",
        "print(\"values: \",lr.state_dict().values())"
      ],
      "execution_count": 43
    },
    {
      "cell_type": "markdown",
      "metadata": {
        "id": "2ff093ef-2d53-4cb9-a526-8fea0335bd67"
      },
      "source": [
        "The keys correspond to the name of the attributes and the values correspond to the parameter value.\n"
      ]
    },
    {
      "cell_type": "code",
      "metadata": {
        "colab": {
          "base_uri": "https://localhost:8080/"
        },
        "id": "0c9292d3-86ac-4bd4-9ac3-140b3b46b453",
        "outputId": "cd5e1caf-4a9e-4786-a270-484783b51788"
      },
      "outputs": [
        {
          "output_type": "stream",
          "name": "stdout",
          "text": [
            "weight: Parameter containing:\n",
            "tensor([[0.5153]], requires_grad=True)\n",
            "bias: Parameter containing:\n",
            "tensor([-0.4414], requires_grad=True)\n"
          ]
        }
      ],
      "source": [
        "print(\"weight:\",lr.weight)\n",
        "print(\"bias:\",lr.bias)"
      ],
      "execution_count": 44
    },
    {
      "cell_type": "markdown",
      "metadata": {
        "id": "0f14b0dc-baf4-4ef4-ab75-e82a5a4c1f5a"
      },
      "source": [
        "Now let us make a single prediction at <i>x = [[1.0]]</i>.\n"
      ]
    },
    {
      "cell_type": "code",
      "metadata": {
        "colab": {
          "base_uri": "https://localhost:8080/"
        },
        "id": "f8dc5691-01f1-4c5a-94f8-2d3ab3f3182d",
        "outputId": "fef3980a-846b-4e52-8667-01d5bd77fc2d"
      },
      "outputs": [
        {
          "output_type": "stream",
          "name": "stdout",
          "text": [
            "The prediction:  tensor([[0.0739]], grad_fn=<AddmmBackward0>)\n"
          ]
        }
      ],
      "source": [
        "# Make the prediction at x = [[1.0]]\n",
        "\n",
        "x = torch.tensor([[1.0]])\n",
        "yhat = lr(x)\n",
        "print(\"The prediction: \", yhat)"
      ],
      "execution_count": 45
    },
    {
      "cell_type": "markdown",
      "metadata": {
        "id": "3abc2479-070b-4e6f-92e6-51bc9f742f9b"
      },
      "source": [
        "<!--Empty Space for separating topics-->\n"
      ]
    },
    {
      "cell_type": "markdown",
      "metadata": {
        "id": "131c9a14-9e83-4a7b-82e6-7cb02bb06d98"
      },
      "source": [
        "Similarly, you can make multiple predictions:\n"
      ]
    },
    {
      "cell_type": "markdown",
      "metadata": {
        "id": "d1877165-4b3a-42bc-9f99-afa9e6948d48"
      },
      "source": [
        "<img src=\"https://s3-api.us-geo.objectstorage.softlayer.net/cf-courses-data/CognitiveClass/DL0110EN/notebook_images%20/chapter2/2.1.2vector_function.png\" width=\"500\" alt=\"Linear Class Sample with Multiple Inputs\">\n"
      ]
    },
    {
      "cell_type": "markdown",
      "metadata": {
        "id": "d7f4312e-677b-4e1c-b354-eea7cb211455"
      },
      "source": [
        "Use model <code>lr(x)</code> to predict the result.\n"
      ]
    },
    {
      "cell_type": "code",
      "metadata": {
        "colab": {
          "base_uri": "https://localhost:8080/"
        },
        "id": "9605034d-a00e-4555-a2dd-138d01e240e4",
        "outputId": "dd3264ae-f718-4caa-af18-e7f34627c814"
      },
      "outputs": [
        {
          "output_type": "stream",
          "name": "stdout",
          "text": [
            "The prediction:  tensor([[0.0739],\n",
            "        [0.5891]], grad_fn=<AddmmBackward0>)\n"
          ]
        }
      ],
      "source": [
        "# Create the prediction using linear model\n",
        "\n",
        "x = torch.tensor([[1.0], [2.0]])\n",
        "yhat = lr(x)\n",
        "print(\"The prediction: \", yhat)"
      ],
      "execution_count": 46
    },
    {
      "cell_type": "markdown",
      "metadata": {
        "id": "0b5d6473-8405-4838-a0e4-cf5b61cea74f"
      },
      "source": [
        "<!--Empty Space for separating topics-->\n"
      ]
    },
    {
      "cell_type": "markdown",
      "metadata": {
        "id": "24371143-9fb0-491a-b447-a4aed5a584f3"
      },
      "source": [
        "<h3>Practice</h3>\n"
      ]
    },
    {
      "cell_type": "markdown",
      "metadata": {
        "id": "9697e67d-eb2a-4eaa-91c1-8098e2ae50ca"
      },
      "source": [
        "Make a prediction of the following <code>x</code> tensor using the linear regression model <code>lr</code>.\n"
      ]
    },
    {
      "cell_type": "code",
      "metadata": {
        "colab": {
          "base_uri": "https://localhost:8080/"
        },
        "id": "df3c62c0-9d5f-411d-ad59-d47a7cb32a8c",
        "outputId": "aa9a372d-ec3c-418e-d67e-89434fe5ff26"
      },
      "outputs": [
        {
          "output_type": "stream",
          "name": "stdout",
          "text": [
            "tensor([[0.0739],\n",
            "        [0.5891],\n",
            "        [1.1044]], grad_fn=<AddmmBackward0>)\n"
          ]
        }
      ],
      "source": [
        "# Practice: Use the linear regression model object lr to make the prediction.\n",
        "\n",
        "x = torch.tensor([[1.0],[2.0],[3.0]])\n",
        "yhat = lr(x)\n",
        "print(yhat)"
      ],
      "execution_count": 47
    },
    {
      "cell_type": "markdown",
      "metadata": {
        "id": "aa8c6e0f-a236-490f-8111-0c390b1f7d26"
      },
      "source": [
        "<!--Empty Space for separating topics-->\n"
      ]
    },
    {
      "cell_type": "markdown",
      "metadata": {
        "id": "12d7885a-0a24-47b3-9acf-7c6853255775"
      },
      "source": [
        "<h2 id=\"Cust\">Build Custom Modules</h2>\n"
      ]
    },
    {
      "cell_type": "markdown",
      "metadata": {
        "id": "2f3197d3-97ae-4c59-99b5-365e92624e6f"
      },
      "source": [
        "Now, let's build a custom module. We can make more complex models by using this method later on. \n"
      ]
    },
    {
      "cell_type": "markdown",
      "metadata": {
        "id": "c464917d-04d0-4b4a-bb05-61dd0b62f850"
      },
      "source": [
        "First, import the following library.\n"
      ]
    },
    {
      "cell_type": "code",
      "metadata": {
        "id": "b9c392fb-9277-43de-b474-19c06bc14492"
      },
      "outputs": [],
      "source": [
        "# Library for this section\n",
        "\n",
        "from torch import nn"
      ],
      "execution_count": 48
    },
    {
      "cell_type": "markdown",
      "metadata": {
        "id": "a8fb659b-71cd-4f3b-b80d-a2ee99cbdc75"
      },
      "source": [
        "Now, let us define the class: \n"
      ]
    },
    {
      "cell_type": "code",
      "metadata": {
        "id": "2a7c8b41-09c2-4f8b-96a7-00f38266cd3a"
      },
      "outputs": [],
      "source": [
        "# Library for this section\n",
        "\n",
        "from torch import nn\n",
        "# Customize Linear Regression Class\n",
        "\n",
        "class LR(nn.Module):\n",
        "    \n",
        "    # Constructor\n",
        "    def __init__(self, input_size, output_size):\n",
        "        \n",
        "        # Inherit from parent\n",
        "        super(LR, self).__init__()\n",
        "        self.linear = nn.Linear(input_size, output_size)\n",
        "    \n",
        "    # Prediction function\n",
        "    def forward(self, x):\n",
        "        out = self.linear(x)\n",
        "        return out"
      ],
      "execution_count": 49
    },
    {
      "cell_type": "markdown",
      "metadata": {
        "id": "6b3b991e-7903-48d4-8f4b-47a563fa7ad9"
      },
      "source": [
        "Create an object by using the constructor. Print out the parameters we get and the model.\n"
      ]
    },
    {
      "cell_type": "code",
      "source": [
        "lr = LR(1, 1)\n",
        "print(\"The parameters: \", list(lr.parameters()))"
      ],
      "metadata": {
        "id": "fixtQ4LyDZy-",
        "outputId": "713095f4-4961-42f3-89f1-10bd80933fac",
        "colab": {
          "base_uri": "https://localhost:8080/"
        }
      },
      "execution_count": 50,
      "outputs": [
        {
          "output_type": "stream",
          "name": "stdout",
          "text": [
            "The parameters:  [Parameter containing:\n",
            "tensor([[-0.1939]], requires_grad=True), Parameter containing:\n",
            "tensor([0.4694], requires_grad=True)]\n"
          ]
        }
      ]
    },
    {
      "cell_type": "markdown",
      "metadata": {
        "id": "a6c8f96b-278c-4715-91fb-4d4c210823f5"
      },
      "source": [
        "<!--Empty Space for separating topics-->\n"
      ]
    },
    {
      "cell_type": "markdown",
      "metadata": {
        "id": "16eeacb6-8d01-4d3a-882b-b85b1feb22b0"
      },
      "source": [
        "Let us try to make a prediction of a single input sample.\n"
      ]
    },
    {
      "cell_type": "code",
      "metadata": {
        "colab": {
          "base_uri": "https://localhost:8080/"
        },
        "id": "733b85c7-958a-4626-b616-dc5fb2b90325",
        "outputId": "24bf4d39-2835-4f54-ab4d-2c358fd78562"
      },
      "outputs": [
        {
          "output_type": "stream",
          "name": "stdout",
          "text": [
            "The prediction:  tensor([[0.2755]], grad_fn=<AddmmBackward0>)\n"
          ]
        }
      ],
      "source": [
        "# Try our customize linear regression model with single input\n",
        "\n",
        "x = torch.tensor([[1.0]])\n",
        "yhat = lr(x)\n",
        "print(\"The prediction: \", yhat)"
      ],
      "execution_count": 51
    },
    {
      "cell_type": "markdown",
      "metadata": {
        "id": "3d5ff976-e5a7-4457-a840-d8dad8f492ac"
      },
      "source": [
        "<!--Empty Space for separating topics-->\n"
      ]
    },
    {
      "cell_type": "markdown",
      "metadata": {
        "id": "52bddee2-1bb3-475c-807e-195e013a65f8"
      },
      "source": [
        "Now, let us try another example with multiple samples.\n"
      ]
    },
    {
      "cell_type": "code",
      "metadata": {
        "id": "651b8fdc-8d26-418c-aa73-c19b3ce427e3",
        "colab": {
          "base_uri": "https://localhost:8080/"
        },
        "outputId": "84ef6878-da0b-4a19-df59-e821e45b41b3"
      },
      "outputs": [
        {
          "output_type": "stream",
          "name": "stdout",
          "text": [
            "The prediction:  tensor([[0.2755],\n",
            "        [0.0816]], grad_fn=<AddmmBackward0>)\n"
          ]
        }
      ],
      "source": [
        "# Try our customize linear regression model with multiple input\n",
        "\n",
        "x = torch.tensor([[1.0], [2.0]])\n",
        "yhat = lr(x)\n",
        "print(\"The prediction: \", yhat)"
      ],
      "execution_count": 52
    },
    {
      "cell_type": "markdown",
      "metadata": {
        "id": "cd227cf2-9760-4370-8139-e91351d23b90"
      },
      "source": [
        "the parameters are also stored in an ordered dictionary :\n"
      ]
    },
    {
      "cell_type": "code",
      "metadata": {
        "id": "cabfccba-ce3b-44f4-975a-9b283b3a02ff",
        "colab": {
          "base_uri": "https://localhost:8080/"
        },
        "outputId": "2e2ac86d-85a8-486f-d83f-e79278a4578e"
      },
      "outputs": [
        {
          "output_type": "stream",
          "name": "stdout",
          "text": [
            "Python dictionary:  OrderedDict([('linear.weight', tensor([[-0.1939]])), ('linear.bias', tensor([0.4694]))])\n",
            "keys:  odict_keys(['linear.weight', 'linear.bias'])\n",
            "values:  odict_values([tensor([[-0.1939]]), tensor([0.4694])])\n"
          ]
        }
      ],
      "source": [
        "print(\"Python dictionary: \", lr.state_dict())\n",
        "print(\"keys: \",lr.state_dict().keys())\n",
        "print(\"values: \",lr.state_dict().values())\n"
      ],
      "execution_count": 53
    },
    {
      "cell_type": "markdown",
      "metadata": {
        "id": "9933f280-c46e-4ab4-8e95-35c63a4cbdf5"
      },
      "source": [
        "<!--Empty Space for separating topics-->\n"
      ]
    },
    {
      "cell_type": "markdown",
      "metadata": {
        "id": "b563e5bf-485b-41cd-a2f8-109b4afebc7e"
      },
      "source": [
        "<h3>Practice</h3>\n"
      ]
    },
    {
      "cell_type": "markdown",
      "metadata": {
        "id": "120c50f5-126f-4cd9-9ccf-34f74bb2102c"
      },
      "source": [
        "Create an object <code>lr1</code> from the class we created before and make a prediction by using the following tensor: \n"
      ]
    },
    {
      "cell_type": "code",
      "metadata": {
        "id": "c09f523b-cfc5-454e-accf-bfb7647cf117",
        "colab": {
          "base_uri": "https://localhost:8080/"
        },
        "outputId": "92a6ffda-4457-4bf1-d5c7-7d2732ac190d"
      },
      "outputs": [
        {
          "output_type": "execute_result",
          "data": {
            "text/plain": [
              "tensor([[ 0.2755],\n",
              "        [ 0.0816],\n",
              "        [-0.1122]], grad_fn=<AddmmBackward0>)"
            ]
          },
          "metadata": {},
          "execution_count": 54
        }
      ],
      "source": [
        "# Practice: Use the LR class to create a model and make a prediction of the following tensor.\n",
        "\n",
        "x = torch.tensor([[1.0], [2.0], [3.0]])\n",
        "lr1=LR(1,1)\n",
        "yhat=lr(x)\n",
        "yhat"
      ],
      "execution_count": 54
    },
    {
      "cell_type": "markdown",
      "metadata": {
        "id": "ea92fa6f-a434-4ef5-9986-251f87b440ee"
      },
      "source": [
        " <!-- Your answer is below:\n",
        "x=torch.tensor([[1.0],[2.0],[3.0]])\n",
        "lr1=LR(1,1)\n",
        "yhat=lr1(x)\n",
        "yhat\n",
        "-->\n"
      ]
    }
  ],
  "metadata": {
    "kernelspec": {
      "display_name": "Python",
      "language": "python",
      "name": "conda-env-python-py"
    },
    "language_info": {
      "name": ""
    },
    "colab": {
      "provenance": []
    }
  },
  "nbformat": 4,
  "nbformat_minor": 0
}