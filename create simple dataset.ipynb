{
  "cells": [
    {
      "cell_type": "markdown",
      "metadata": {
        "id": "e994e93c-8823-401d-95bc-033b3669c80e"
      },
      "source": [
        "<h1>Simple Dataset</h1> \n"
      ]
    },
    {
      "cell_type": "markdown",
      "metadata": {
        "id": "7ad19792-c298-4c99-9c86-c6465f1cd672"
      },
      "source": [
        "<h2>Objective</h2><ul><li> How to create a dataset in pytorch.</li><li> How to perform transformations on the dataset.</li></ul> \n"
      ]
    },
    {
      "cell_type": "markdown",
      "metadata": {
        "id": "874edf53-58ef-484c-8bbd-ddc319bfbcec"
      },
      "source": [
        "<h2>Preparation</h2>\n"
      ]
    },
    {
      "cell_type": "markdown",
      "metadata": {
        "id": "7b0a0a6d-0310-4691-a0f9-ff5e0461111f"
      },
      "source": [
        "The following are the libraries we are going to use for this lab. The <code>torch.manual_seed()</code> is for forcing the random function to give the same number every time we try to recompile it.\n"
      ]
    },
    {
      "cell_type": "code",
      "metadata": {
        "colab": {
          "base_uri": "https://localhost:8080/"
        },
        "id": "343de19a-3ab9-4aa7-9984-51b8e6e4a5c6",
        "outputId": "22086a58-b3b4-4449-c519-345672426e73"
      },
      "outputs": [
        {
          "output_type": "execute_result",
          "data": {
            "text/plain": [
              "<torch._C.Generator at 0x7fce284ce430>"
            ]
          },
          "metadata": {},
          "execution_count": 1
        }
      ],
      "source": [
        "# These are the libraries will be used for this lab.\n",
        "\n",
        "import torch\n",
        "from torch.utils.data import Dataset\n",
        "torch.manual_seed(1)"
      ],
      "execution_count": 1
    },
    {
      "cell_type": "markdown",
      "metadata": {
        "id": "629862b7-ceac-4c9d-b520-39b4f2d64e7d"
      },
      "source": [
        "<h2 id=\"Simple_Dataset\">Simple dataset</h2>\n"
      ]
    },
    {
      "cell_type": "markdown",
      "metadata": {
        "id": "0cc10400-6398-41c4-b1fa-26997f2f1094"
      },
      "source": [
        "Let us try to create our own dataset class.\n"
      ]
    },
    {
      "cell_type": "code",
      "metadata": {
        "id": "a6bc6efb-3e84-46a2-9353-f3dd6f21c009"
      },
      "outputs": [],
      "source": [
        "# Define class for dataset\n",
        "\n",
        "class toy_set(Dataset):\n",
        "    \n",
        "    # Constructor with defult values \n",
        "    def __init__(self, length = 100, transform = None):\n",
        "        self.len = length\n",
        "        self.x = 2 * torch.ones(length, 2)\n",
        "        self.y = torch.ones(length, 1)\n",
        "        self.transform = transform\n",
        "     \n",
        "    # Getter\n",
        "    def __getitem__(self, index):\n",
        "        sample = self.x[index], self.y[index]\n",
        "        if self.transform:\n",
        "            sample = self.transform(sample)     \n",
        "        return sample\n",
        "    \n",
        "    # Get Length\n",
        "    def __len__(self):\n",
        "        return self.len"
      ],
      "execution_count": 3
    },
    {
      "cell_type": "markdown",
      "metadata": {
        "id": "7e4d38b1-611c-4890-ad35-a65f0057700d"
      },
      "source": [
        "Now, let us create our <code>toy_set</code> object, and find out the value on index 1 and the length of the inital dataset\n"
      ]
    },
    {
      "cell_type": "code",
      "metadata": {
        "colab": {
          "base_uri": "https://localhost:8080/"
        },
        "id": "402d69d1-e7bc-48c9-bd92-0ae6a9a31490",
        "outputId": "5602adf9-6c6a-4d33-e11c-eaa3e843371a"
      },
      "outputs": [
        {
          "output_type": "stream",
          "name": "stdout",
          "text": [
            "Our toy_set object:  <__main__.toy_set object at 0x7fcd81f738b0>\n",
            "Value on index 0 of our toy_set object:  (tensor([2., 2.]), tensor([1.]))\n",
            "Our toy_set length:  100\n"
          ]
        }
      ],
      "source": [
        "# Create Dataset Object. Find out the value on index 1. Find out the length of Dataset Object.\n",
        "\n",
        "our_dataset = toy_set()\n",
        "print(\"Our toy_set object: \", our_dataset)\n",
        "print(\"Value on index 0 of our toy_set object: \", our_dataset[0])\n",
        "print(\"Our toy_set length: \", len(our_dataset))"
      ],
      "execution_count": 4
    },
    {
      "cell_type": "markdown",
      "metadata": {
        "id": "e9e6cac0-f5c8-440b-bb21-3c53bf8e6437"
      },
      "source": [
        "As a result, we can apply the same indexing convention as a <code>list</code>,\n",
        "and apply the fuction <code>len</code> on the <code>toy_set</code> object. We are able to customize the indexing and length method by <code>def &#95;&#95;getitem&#95;&#95;(self, index)</code> and <code>def &#95;&#95;len&#95;&#95;(self)</code>.\n"
      ]
    },
    {
      "cell_type": "markdown",
      "metadata": {
        "id": "5de51d16-bd23-420a-9b36-89c62e5a3299"
      },
      "source": [
        "Now, let us print out the first 3 elements and assign them to x and y:\n"
      ]
    },
    {
      "cell_type": "code",
      "metadata": {
        "colab": {
          "base_uri": "https://localhost:8080/"
        },
        "id": "94046c88-6c73-47a3-b049-28f523d56e7b",
        "outputId": "943b21c2-b5ac-4d2f-b2fd-7acae0b5cd0d"
      },
      "outputs": [
        {
          "output_type": "stream",
          "name": "stdout",
          "text": [
            "index:  0 ; x: tensor([2., 2.]) ; y: tensor([1.])\n",
            "index:  1 ; x: tensor([2., 2.]) ; y: tensor([1.])\n",
            "index:  2 ; x: tensor([2., 2.]) ; y: tensor([1.])\n"
          ]
        }
      ],
      "source": [
        "# Use loop to print out first 3 elements in dataset\n",
        "\n",
        "for i in range(3):\n",
        "    x, y=our_dataset[i]\n",
        "    print(\"index: \", i, '; x:', x, '; y:', y)"
      ],
      "execution_count": 5
    },
    {
      "cell_type": "markdown",
      "metadata": {
        "id": "cd9f3775-391b-44b9-8384-f059d43cf811"
      },
      "source": [
        "The dataset object is an Iterable; as a result, we  apply the loop directly on the dataset object \n"
      ]
    },
    {
      "cell_type": "code",
      "metadata": {
        "colab": {
          "base_uri": "https://localhost:8080/"
        },
        "id": "4d90c840-bf80-4c7f-8252-58ae7d130267",
        "outputId": "c898d6a9-d8ce-4cbb-c8bb-25700152672f"
      },
      "outputs": [
        {
          "output_type": "stream",
          "name": "stdout",
          "text": [
            " x: tensor([2., 2.]) y: tensor([1.])\n",
            " x: tensor([2., 2.]) y: tensor([1.])\n",
            " x: tensor([2., 2.]) y: tensor([1.])\n",
            " x: tensor([2., 2.]) y: tensor([1.])\n",
            " x: tensor([2., 2.]) y: tensor([1.])\n",
            " x: tensor([2., 2.]) y: tensor([1.])\n",
            " x: tensor([2., 2.]) y: tensor([1.])\n",
            " x: tensor([2., 2.]) y: tensor([1.])\n",
            " x: tensor([2., 2.]) y: tensor([1.])\n",
            " x: tensor([2., 2.]) y: tensor([1.])\n",
            " x: tensor([2., 2.]) y: tensor([1.])\n",
            " x: tensor([2., 2.]) y: tensor([1.])\n",
            " x: tensor([2., 2.]) y: tensor([1.])\n",
            " x: tensor([2., 2.]) y: tensor([1.])\n",
            " x: tensor([2., 2.]) y: tensor([1.])\n",
            " x: tensor([2., 2.]) y: tensor([1.])\n",
            " x: tensor([2., 2.]) y: tensor([1.])\n",
            " x: tensor([2., 2.]) y: tensor([1.])\n",
            " x: tensor([2., 2.]) y: tensor([1.])\n",
            " x: tensor([2., 2.]) y: tensor([1.])\n",
            " x: tensor([2., 2.]) y: tensor([1.])\n",
            " x: tensor([2., 2.]) y: tensor([1.])\n",
            " x: tensor([2., 2.]) y: tensor([1.])\n",
            " x: tensor([2., 2.]) y: tensor([1.])\n",
            " x: tensor([2., 2.]) y: tensor([1.])\n",
            " x: tensor([2., 2.]) y: tensor([1.])\n",
            " x: tensor([2., 2.]) y: tensor([1.])\n",
            " x: tensor([2., 2.]) y: tensor([1.])\n",
            " x: tensor([2., 2.]) y: tensor([1.])\n",
            " x: tensor([2., 2.]) y: tensor([1.])\n",
            " x: tensor([2., 2.]) y: tensor([1.])\n",
            " x: tensor([2., 2.]) y: tensor([1.])\n",
            " x: tensor([2., 2.]) y: tensor([1.])\n",
            " x: tensor([2., 2.]) y: tensor([1.])\n",
            " x: tensor([2., 2.]) y: tensor([1.])\n",
            " x: tensor([2., 2.]) y: tensor([1.])\n",
            " x: tensor([2., 2.]) y: tensor([1.])\n",
            " x: tensor([2., 2.]) y: tensor([1.])\n",
            " x: tensor([2., 2.]) y: tensor([1.])\n",
            " x: tensor([2., 2.]) y: tensor([1.])\n",
            " x: tensor([2., 2.]) y: tensor([1.])\n",
            " x: tensor([2., 2.]) y: tensor([1.])\n",
            " x: tensor([2., 2.]) y: tensor([1.])\n",
            " x: tensor([2., 2.]) y: tensor([1.])\n",
            " x: tensor([2., 2.]) y: tensor([1.])\n",
            " x: tensor([2., 2.]) y: tensor([1.])\n",
            " x: tensor([2., 2.]) y: tensor([1.])\n",
            " x: tensor([2., 2.]) y: tensor([1.])\n",
            " x: tensor([2., 2.]) y: tensor([1.])\n",
            " x: tensor([2., 2.]) y: tensor([1.])\n",
            " x: tensor([2., 2.]) y: tensor([1.])\n",
            " x: tensor([2., 2.]) y: tensor([1.])\n",
            " x: tensor([2., 2.]) y: tensor([1.])\n",
            " x: tensor([2., 2.]) y: tensor([1.])\n",
            " x: tensor([2., 2.]) y: tensor([1.])\n",
            " x: tensor([2., 2.]) y: tensor([1.])\n",
            " x: tensor([2., 2.]) y: tensor([1.])\n",
            " x: tensor([2., 2.]) y: tensor([1.])\n",
            " x: tensor([2., 2.]) y: tensor([1.])\n",
            " x: tensor([2., 2.]) y: tensor([1.])\n",
            " x: tensor([2., 2.]) y: tensor([1.])\n",
            " x: tensor([2., 2.]) y: tensor([1.])\n",
            " x: tensor([2., 2.]) y: tensor([1.])\n",
            " x: tensor([2., 2.]) y: tensor([1.])\n",
            " x: tensor([2., 2.]) y: tensor([1.])\n",
            " x: tensor([2., 2.]) y: tensor([1.])\n",
            " x: tensor([2., 2.]) y: tensor([1.])\n",
            " x: tensor([2., 2.]) y: tensor([1.])\n",
            " x: tensor([2., 2.]) y: tensor([1.])\n",
            " x: tensor([2., 2.]) y: tensor([1.])\n",
            " x: tensor([2., 2.]) y: tensor([1.])\n",
            " x: tensor([2., 2.]) y: tensor([1.])\n",
            " x: tensor([2., 2.]) y: tensor([1.])\n",
            " x: tensor([2., 2.]) y: tensor([1.])\n",
            " x: tensor([2., 2.]) y: tensor([1.])\n",
            " x: tensor([2., 2.]) y: tensor([1.])\n",
            " x: tensor([2., 2.]) y: tensor([1.])\n",
            " x: tensor([2., 2.]) y: tensor([1.])\n",
            " x: tensor([2., 2.]) y: tensor([1.])\n",
            " x: tensor([2., 2.]) y: tensor([1.])\n",
            " x: tensor([2., 2.]) y: tensor([1.])\n",
            " x: tensor([2., 2.]) y: tensor([1.])\n",
            " x: tensor([2., 2.]) y: tensor([1.])\n",
            " x: tensor([2., 2.]) y: tensor([1.])\n",
            " x: tensor([2., 2.]) y: tensor([1.])\n",
            " x: tensor([2., 2.]) y: tensor([1.])\n",
            " x: tensor([2., 2.]) y: tensor([1.])\n",
            " x: tensor([2., 2.]) y: tensor([1.])\n",
            " x: tensor([2., 2.]) y: tensor([1.])\n",
            " x: tensor([2., 2.]) y: tensor([1.])\n",
            " x: tensor([2., 2.]) y: tensor([1.])\n",
            " x: tensor([2., 2.]) y: tensor([1.])\n",
            " x: tensor([2., 2.]) y: tensor([1.])\n",
            " x: tensor([2., 2.]) y: tensor([1.])\n",
            " x: tensor([2., 2.]) y: tensor([1.])\n",
            " x: tensor([2., 2.]) y: tensor([1.])\n",
            " x: tensor([2., 2.]) y: tensor([1.])\n",
            " x: tensor([2., 2.]) y: tensor([1.])\n",
            " x: tensor([2., 2.]) y: tensor([1.])\n",
            " x: tensor([2., 2.]) y: tensor([1.])\n"
          ]
        }
      ],
      "source": [
        "for x,y in our_dataset:\n",
        "    print(' x:', x, 'y:', y)"
      ],
      "execution_count": 6
    },
    {
      "cell_type": "markdown",
      "metadata": {
        "id": "8bbf72ea-7a22-432e-b1b8-4b361fcb74fc"
      },
      "source": [
        "<h3>Practice</h3>\n"
      ]
    },
    {
      "cell_type": "markdown",
      "metadata": {
        "id": "c1abc467-22b0-42d0-9b1c-a0978474d11b"
      },
      "source": [
        "Try to create an <code>toy_set</code> object with length <b>50</b>. Print out the length of your object.\n"
      ]
    },
    {
      "cell_type": "code",
      "metadata": {
        "colab": {
          "base_uri": "https://localhost:8080/"
        },
        "id": "3631317e-7aa0-4f81-a12a-2b7f5b88d545",
        "outputId": "286b7db6-257f-43f3-f11e-8f8c3c541697"
      },
      "outputs": [
        {
          "output_type": "stream",
          "name": "stdout",
          "text": [
            "My toy_set length:  50\n"
          ]
        }
      ],
      "source": [
        "# Practice: Create a new object with length 50, and print the length of object out.\n",
        "my_dataset = toy_set(length = 50)\n",
        "print(\"My toy_set length: \", len(my_dataset))"
      ],
      "execution_count": 7
    },
    {
      "cell_type": "markdown",
      "metadata": {
        "id": "08b2438d-d6cc-4846-ac16-495ce2087135"
      },
      "source": [
        "<!--Empty Space for separating topics-->\n"
      ]
    },
    {
      "cell_type": "markdown",
      "metadata": {
        "id": "ab39ed88-9211-45c7-a8cc-ae35de7b67d7"
      },
      "source": [
        "<h2 id=\"Transforms\">Transforms</h2>\n"
      ]
    },
    {
      "cell_type": "markdown",
      "metadata": {
        "id": "e71f4693-52aa-40a3-a24e-428000aa37e3"
      },
      "source": [
        "You can also create a class for transforming the data. In this case, we will try to add 1 to x and multiply y by 2:\n"
      ]
    },
    {
      "cell_type": "code",
      "metadata": {
        "id": "a991b0c8-a471-4be8-8305-a4481e2fb393"
      },
      "outputs": [],
      "source": [
        "# Create tranform class add_mult\n",
        "\n",
        "class add_mult(object):\n",
        "    \n",
        "    # Constructor\n",
        "    def __init__(self, addx = 1, muly = 2):\n",
        "        self.addx = addx\n",
        "        self.muly = muly\n",
        "    \n",
        "    # Executor\n",
        "    def __call__(self, sample):\n",
        "        x = sample[0]\n",
        "        y = sample[1]\n",
        "        x = x + self.addx\n",
        "        y = y * self.muly\n",
        "        sample = x, y\n",
        "        return sample"
      ],
      "execution_count": 8
    },
    {
      "cell_type": "markdown",
      "metadata": {
        "id": "55af4127-b5d9-421c-ad93-748b11b21656"
      },
      "source": [
        "<!--Empty Space for separating topics-->\n"
      ]
    },
    {
      "cell_type": "markdown",
      "metadata": {
        "id": "d958e424-5781-4a84-8b3a-15a6cd67f58e"
      },
      "source": [
        "Now, create a transform object:.\n"
      ]
    },
    {
      "cell_type": "code",
      "metadata": {
        "id": "276bfa09-47df-4a0f-8f15-75586efc9d4f"
      },
      "outputs": [],
      "source": [
        "# Create an add_mult transform object, and an toy_set object\n",
        "\n",
        "a_m = add_mult()\n",
        "data_set = toy_set()"
      ],
      "execution_count": 9
    },
    {
      "cell_type": "markdown",
      "metadata": {
        "id": "53f4aa9c-f4ea-4abe-be4d-5b8d631c5f2b"
      },
      "source": [
        "Assign the outputs of the original dataset to <code>x</code> and <code>y</code>. Then, apply the transform <code>add_mult</code> to the dataset and output the values as <code>x_</code> and <code>y_</code>, respectively: \n"
      ]
    },
    {
      "cell_type": "code",
      "metadata": {
        "colab": {
          "base_uri": "https://localhost:8080/"
        },
        "id": "ee55095e-6cf5-4ee0-a118-b518917b097f",
        "outputId": "4ab7beec-212c-4789-b1bf-685f77569f68"
      },
      "outputs": [
        {
          "output_type": "stream",
          "name": "stdout",
          "text": [
            "Index:  0 Original x:  tensor([2., 2.]) Original y:  tensor([1.])\n",
            "Index:  0 Transformed x_: tensor([3., 3.]) Transformed y_: tensor([2.])\n",
            "Index:  1 Original x:  tensor([2., 2.]) Original y:  tensor([1.])\n",
            "Index:  1 Transformed x_: tensor([3., 3.]) Transformed y_: tensor([2.])\n",
            "Index:  2 Original x:  tensor([2., 2.]) Original y:  tensor([1.])\n",
            "Index:  2 Transformed x_: tensor([3., 3.]) Transformed y_: tensor([2.])\n",
            "Index:  3 Original x:  tensor([2., 2.]) Original y:  tensor([1.])\n",
            "Index:  3 Transformed x_: tensor([3., 3.]) Transformed y_: tensor([2.])\n",
            "Index:  4 Original x:  tensor([2., 2.]) Original y:  tensor([1.])\n",
            "Index:  4 Transformed x_: tensor([3., 3.]) Transformed y_: tensor([2.])\n",
            "Index:  5 Original x:  tensor([2., 2.]) Original y:  tensor([1.])\n",
            "Index:  5 Transformed x_: tensor([3., 3.]) Transformed y_: tensor([2.])\n",
            "Index:  6 Original x:  tensor([2., 2.]) Original y:  tensor([1.])\n",
            "Index:  6 Transformed x_: tensor([3., 3.]) Transformed y_: tensor([2.])\n",
            "Index:  7 Original x:  tensor([2., 2.]) Original y:  tensor([1.])\n",
            "Index:  7 Transformed x_: tensor([3., 3.]) Transformed y_: tensor([2.])\n",
            "Index:  8 Original x:  tensor([2., 2.]) Original y:  tensor([1.])\n",
            "Index:  8 Transformed x_: tensor([3., 3.]) Transformed y_: tensor([2.])\n",
            "Index:  9 Original x:  tensor([2., 2.]) Original y:  tensor([1.])\n",
            "Index:  9 Transformed x_: tensor([3., 3.]) Transformed y_: tensor([2.])\n"
          ]
        }
      ],
      "source": [
        "# Use loop to print out first 10 elements in dataset\n",
        "\n",
        "for i in range(10):\n",
        "    x, y = data_set[i]\n",
        "    print('Index: ', i, 'Original x: ', x, 'Original y: ', y)\n",
        "    x_, y_ = a_m(data_set[i])\n",
        "    print('Index: ', i, 'Transformed x_:', x_, 'Transformed y_:', y_)"
      ],
      "execution_count": 10
    },
    {
      "cell_type": "markdown",
      "metadata": {
        "id": "88b51094-8fef-4dc1-94e8-7b76348b2dad"
      },
      "source": [
        "As the result, <code>x</code> has been added by 1 and y has been multiplied by 2, as <i>[2, 2] + 1 = [3, 3]</i> and <i>[1] x 2 = [2]</i>\n"
      ]
    },
    {
      "cell_type": "markdown",
      "metadata": {
        "id": "6022a42d-0528-4591-8ca9-ce8811dc641c"
      },
      "source": [
        "<!--Empty Space for separating topics-->\n"
      ]
    },
    {
      "cell_type": "markdown",
      "metadata": {
        "id": "f129a047-a6c4-417f-a59a-c12f149b0573"
      },
      "source": [
        "We can apply the transform object every time we create a new <code>toy_set object</code> Remember, we have the constructor in toy_set class with the parameter <code>transform = None</code>.\n",
        "When we create a new object using the constructor, we can assign the transform object to the parameter transform, as the following code demonstrates.\n"
      ]
    },
    {
      "cell_type": "code",
      "metadata": {
        "id": "95c90450-da41-42da-b8b3-7acfde59ac95"
      },
      "outputs": [],
      "source": [
        "# Create a new data_set object with add_mult object as transform\n",
        "\n",
        "cust_data_set = toy_set(transform = a_m)"
      ],
      "execution_count": 11
    },
    {
      "cell_type": "markdown",
      "metadata": {
        "id": "3ba0ded7-b3f9-49c4-ab5c-3be732aad9ed"
      },
      "source": [
        "This applied <code>a_m</code> object (a transform method) to every element in <code>cust_data_set</code> as initialized. Let us print out the first 10 elements in <code>cust_data_set</code> in order to see whether the <code>a_m</code> applied on <code>cust_data_set</code>\n"
      ]
    },
    {
      "cell_type": "code",
      "metadata": {
        "colab": {
          "base_uri": "https://localhost:8080/"
        },
        "id": "a4043c59-16fc-4743-be7c-cf9365fc4dfc",
        "outputId": "b2b0efa9-85fd-4b0c-a771-b966c920bbd3"
      },
      "outputs": [
        {
          "output_type": "stream",
          "name": "stdout",
          "text": [
            "Index:  0 Original x:  tensor([2., 2.]) Original y:  tensor([1.])\n",
            "Index:  0 Transformed x_: tensor([3., 3.]) Transformed y_: tensor([2.])\n",
            "Index:  1 Original x:  tensor([2., 2.]) Original y:  tensor([1.])\n",
            "Index:  1 Transformed x_: tensor([3., 3.]) Transformed y_: tensor([2.])\n",
            "Index:  2 Original x:  tensor([2., 2.]) Original y:  tensor([1.])\n",
            "Index:  2 Transformed x_: tensor([3., 3.]) Transformed y_: tensor([2.])\n",
            "Index:  3 Original x:  tensor([2., 2.]) Original y:  tensor([1.])\n",
            "Index:  3 Transformed x_: tensor([3., 3.]) Transformed y_: tensor([2.])\n",
            "Index:  4 Original x:  tensor([2., 2.]) Original y:  tensor([1.])\n",
            "Index:  4 Transformed x_: tensor([3., 3.]) Transformed y_: tensor([2.])\n",
            "Index:  5 Original x:  tensor([2., 2.]) Original y:  tensor([1.])\n",
            "Index:  5 Transformed x_: tensor([3., 3.]) Transformed y_: tensor([2.])\n",
            "Index:  6 Original x:  tensor([2., 2.]) Original y:  tensor([1.])\n",
            "Index:  6 Transformed x_: tensor([3., 3.]) Transformed y_: tensor([2.])\n",
            "Index:  7 Original x:  tensor([2., 2.]) Original y:  tensor([1.])\n",
            "Index:  7 Transformed x_: tensor([3., 3.]) Transformed y_: tensor([2.])\n",
            "Index:  8 Original x:  tensor([2., 2.]) Original y:  tensor([1.])\n",
            "Index:  8 Transformed x_: tensor([3., 3.]) Transformed y_: tensor([2.])\n",
            "Index:  9 Original x:  tensor([2., 2.]) Original y:  tensor([1.])\n",
            "Index:  9 Transformed x_: tensor([3., 3.]) Transformed y_: tensor([2.])\n"
          ]
        }
      ],
      "source": [
        "# Use loop to print out first 10 elements in dataset\n",
        "\n",
        "for i in range(10):\n",
        "    x, y = data_set[i]\n",
        "    print('Index: ', i, 'Original x: ', x, 'Original y: ', y)\n",
        "    x_, y_ = cust_data_set[i]\n",
        "    print('Index: ', i, 'Transformed x_:', x_, 'Transformed y_:', y_)"
      ],
      "execution_count": 12
    },
    {
      "cell_type": "markdown",
      "metadata": {
        "id": "4205f73e-7742-4406-acc9-51d9bae15638"
      },
      "source": [
        "The result is the same as the previous method.\n"
      ]
    },
    {
      "cell_type": "code",
      "metadata": {
        "colab": {
          "base_uri": "https://localhost:8080/"
        },
        "id": "e88294bd-bec2-4e89-b40e-1daeb8aa6048",
        "outputId": "a581522c-829b-4e99-a93f-c702e87f941c"
      },
      "outputs": [
        {
          "output_type": "stream",
          "name": "stdout",
          "text": [
            "Index:  0 Transformed x_: tensor([40., 40.]) Transformed y_: tensor([30.])\n",
            "Index:  1 Transformed x_: tensor([40., 40.]) Transformed y_: tensor([30.])\n",
            "Index:  2 Transformed x_: tensor([40., 40.]) Transformed y_: tensor([30.])\n"
          ]
        }
      ],
      "source": [
        "# Practice: Construct your own my_add_mult transform. Apply my_add_mult on a new toy_set object. Print out the first three elements from the transformed dataset.\n",
        "class my_add_mult(object):   \n",
        "    def __init__(self, add = 2, mul = 10):\n",
        "        self.add=add\n",
        "        self.mul=mul\n",
        "        \n",
        "    def __call__(self, sample):\n",
        "        x = sample[0]\n",
        "        y = sample[1]\n",
        "        x = x + self.add\n",
        "        y = y + self.add\n",
        "        x = x * self.mul\n",
        "        y = y * self.mul\n",
        "        sample = x, y\n",
        "        return sample\n",
        "        \n",
        "       \n",
        "my_dataset = toy_set(transform = my_add_mult())\n",
        "for i in range(3):\n",
        "    x_, y_ = my_dataset[i]\n",
        "    print('Index: ', i, 'Transformed x_:', x_, 'Transformed y_:', y_)"
      ],
      "execution_count": 13
    },
    {
      "cell_type": "markdown",
      "metadata": {
        "id": "f8d27ccc-6a60-4430-9157-41bb33eb01d8"
      },
      "source": [
        "<h2 id=\"Compose\">Compose</h2>\n"
      ]
    },
    {
      "cell_type": "markdown",
      "metadata": {
        "id": "91f357c2-4633-4ac4-9619-6335a6d882c1"
      },
      "source": [
        "You can compose multiple transforms on the dataset object. First, import <code>transforms</code> from <code>torchvision</code>:\n"
      ]
    },
    {
      "cell_type": "code",
      "metadata": {
        "id": "106f8c9c-13c3-470c-998c-f08929e880b1"
      },
      "outputs": [],
      "source": [
        "from torchvision import transforms"
      ],
      "execution_count": 14
    },
    {
      "cell_type": "markdown",
      "metadata": {
        "id": "7c32ed4b-a9ff-4f5a-8db5-4d28d4ad8525"
      },
      "source": [
        "Then, create a new transform class that multiplies each of the elements by 100: \n"
      ]
    },
    {
      "cell_type": "code",
      "metadata": {
        "id": "a5fd66e4-9f8d-48fb-88ca-e60b1d286062"
      },
      "outputs": [],
      "source": [
        "# Create tranform class mult\n",
        "\n",
        "class mult(object):\n",
        "    \n",
        "    # Constructor\n",
        "    def __init__(self, mult = 100):\n",
        "        self.mult = mult\n",
        "        \n",
        "    # Executor\n",
        "    def __call__(self, sample):\n",
        "        x = sample[0]\n",
        "        y = sample[1]\n",
        "        x = x * self.mult\n",
        "        y = y * self.mult\n",
        "        sample = x, y\n",
        "        return sample"
      ],
      "execution_count": 15
    },
    {
      "cell_type": "markdown",
      "metadata": {
        "id": "663e28cd-0770-4063-88bd-e1847338ccd1"
      },
      "source": [
        "Now let us try to combine the transforms <code>add_mult</code> and <code>mult</code>\n"
      ]
    },
    {
      "cell_type": "code",
      "metadata": {
        "colab": {
          "base_uri": "https://localhost:8080/"
        },
        "id": "01e501a2-d873-4197-a58a-43c7e88ad6fb",
        "outputId": "70d0b0c3-922a-41bb-8f59-2f6e1b387837"
      },
      "outputs": [
        {
          "output_type": "stream",
          "name": "stdout",
          "text": [
            "The combination of transforms (Compose):  Compose(\n",
            "    <__main__.add_mult object at 0x7fcd7fedc880>\n",
            "    <__main__.mult object at 0x7fcd7fedc160>\n",
            ")\n"
          ]
        }
      ],
      "source": [
        "# Combine the add_mult() and mult()\n",
        "\n",
        "data_transform = transforms.Compose([add_mult(), mult()])\n",
        "print(\"The combination of transforms (Compose): \", data_transform)"
      ],
      "execution_count": 16
    },
    {
      "cell_type": "markdown",
      "metadata": {
        "id": "6d22de1c-e7d7-4ca3-a5f5-a862d0e3be73"
      },
      "source": [
        "The new <code>Compose</code> object will perform each transform concurrently as shown in this figure:\n"
      ]
    },
    {
      "cell_type": "markdown",
      "metadata": {
        "id": "192b937b-0609-4e41-ae27-24af1b62b386"
      },
      "source": [
        "<img src=\"https://s3-api.us-geo.objectstorage.softlayer.net/cf-courses-data/CognitiveClass/DL0110EN/notebook_images%20/chapter%201/1.3.1_trasform.png\" width=\"500\" alt=\"Compose PyTorch\">\n"
      ]
    },
    {
      "cell_type": "code",
      "metadata": {
        "colab": {
          "base_uri": "https://localhost:8080/"
        },
        "id": "f29e0dfa-41b8-414f-820d-1b299c9bd69e",
        "outputId": "c44a3853-f87e-40cc-d49d-40b4a57eebc9"
      },
      "outputs": [
        {
          "output_type": "execute_result",
          "data": {
            "text/plain": [
              "(tensor([300., 300.]), tensor([200.]))"
            ]
          },
          "metadata": {},
          "execution_count": 17
        }
      ],
      "source": [
        "data_transform(data_set[0])"
      ],
      "execution_count": 17
    },
    {
      "cell_type": "code",
      "metadata": {
        "colab": {
          "base_uri": "https://localhost:8080/"
        },
        "id": "8979d1f9-187e-45e8-adf3-144329a27979",
        "outputId": "575c624a-3d62-4449-aa1c-1747fd65913e"
      },
      "outputs": [
        {
          "output_type": "stream",
          "name": "stdout",
          "text": [
            "Original x:  tensor([2., 2.]) Original y:  tensor([1.])\n",
            "Transformed x_: tensor([300., 300.]) Transformed y_: tensor([200.])\n"
          ]
        }
      ],
      "source": [
        "x,y=data_set[0]\n",
        "x_,y_=data_transform(data_set[0])\n",
        "print( 'Original x: ', x, 'Original y: ', y)\n",
        "\n",
        "print( 'Transformed x_:', x_, 'Transformed y_:', y_)"
      ],
      "execution_count": 18
    },
    {
      "cell_type": "markdown",
      "metadata": {
        "id": "61145a5c-8edd-4db5-aafa-8c8270e5e120"
      },
      "source": [
        "Now we can pass the new <code>Compose</code> object (The combination of methods <code>add_mult()</code> and <code>mult</code>) to the constructor for creating <code>toy_set</code> object.\n"
      ]
    },
    {
      "cell_type": "code",
      "metadata": {
        "id": "a2d3d501-3076-4760-afb8-3d53ea1f0a87"
      },
      "outputs": [],
      "source": [
        "# Create a new toy_set object with compose object as transform\n",
        "\n",
        "compose_data_set = toy_set(transform = data_transform)"
      ],
      "execution_count": 19
    },
    {
      "cell_type": "markdown",
      "metadata": {
        "id": "e5552e06-0c15-4497-a6e3-d2e1d3439feb"
      },
      "source": [
        "Let us print out the first 3 elements in different <code>toy_set</code> datasets in order to compare the output after different transforms have been applied: \n"
      ]
    },
    {
      "cell_type": "code",
      "metadata": {
        "colab": {
          "base_uri": "https://localhost:8080/"
        },
        "id": "0c664fb6-464a-4b58-bee5-15a7162630ab",
        "outputId": "a5005c4a-4c0c-425c-cd96-858bedb24d4d"
      },
      "outputs": [
        {
          "output_type": "stream",
          "name": "stdout",
          "text": [
            "Index:  0 Original x:  tensor([2., 2.]) Original y:  tensor([1.])\n",
            "Index:  0 Transformed x_: tensor([3., 3.]) Transformed y_: tensor([2.])\n",
            "Index:  0 Compose Transformed x_co:  tensor([300., 300.]) Compose Transformed y_co:  tensor([200.])\n",
            "Index:  1 Original x:  tensor([2., 2.]) Original y:  tensor([1.])\n",
            "Index:  1 Transformed x_: tensor([3., 3.]) Transformed y_: tensor([2.])\n",
            "Index:  1 Compose Transformed x_co:  tensor([300., 300.]) Compose Transformed y_co:  tensor([200.])\n",
            "Index:  2 Original x:  tensor([2., 2.]) Original y:  tensor([1.])\n",
            "Index:  2 Transformed x_: tensor([3., 3.]) Transformed y_: tensor([2.])\n",
            "Index:  2 Compose Transformed x_co:  tensor([300., 300.]) Compose Transformed y_co:  tensor([200.])\n"
          ]
        }
      ],
      "source": [
        "# Use loop to print out first 3 elements in dataset\n",
        "\n",
        "for i in range(3):\n",
        "    x, y = data_set[i]\n",
        "    print('Index: ', i, 'Original x: ', x, 'Original y: ', y)\n",
        "    x_, y_ = cust_data_set[i]\n",
        "    print('Index: ', i, 'Transformed x_:', x_, 'Transformed y_:', y_)\n",
        "    x_co, y_co = compose_data_set[i]\n",
        "    print('Index: ', i, 'Compose Transformed x_co: ', x_co ,'Compose Transformed y_co: ',y_co)"
      ],
      "execution_count": 20
    },
    {
      "cell_type": "markdown",
      "metadata": {
        "id": "b37dbac4-201b-4671-8eeb-89367b775942"
      },
      "source": [
        "Let us see what happened on index 0. The original value of <code>x</code> is <i>[2, 2]</i>, and the original value of <code>y</code> is [1]. If we only applied <code>add_mult()</code> on the original dataset, then the <code>x</code> became <i>[3, 3]</i> and y became <i>[2]</i>. Now let us see what is the value after applied both <code>add_mult()</code> and <code>mult()</code>. The result of x is <i>[300, 300]</i> and y is <i>[200]</i>. The calculation which is equavalent to the compose is <i> x = ([2, 2] + 1) x 100 = [300, 300], y = ([1] x 2) x 100 = 200</i>\n"
      ]
    },
    {
      "cell_type": "markdown",
      "metadata": {
        "id": "5cbc74b1-b56c-4ec5-b1ea-c17eabe69915"
      },
      "source": [
        "<h3>Practice</h3>\n"
      ]
    },
    {
      "cell_type": "markdown",
      "metadata": {
        "id": "13c2075c-02b8-4185-a1f3-8a62d4555702"
      },
      "source": [
        "Try to combine the <code>mult()</code> and <code>add_mult()</code> as <code>mult()</code> to be executed first. And apply this on a new <code>toy_set</code> dataset. Print out the first 3 elements in the transformed dataset.\n"
      ]
    },
    {
      "cell_type": "code",
      "metadata": {
        "colab": {
          "base_uri": "https://localhost:8080/"
        },
        "id": "a9b92f23-bdb5-4a84-953b-e7d18d9e6a0f",
        "outputId": "4c947998-ae07-4c04-b38a-f3a4c2aa335a"
      },
      "outputs": [
        {
          "output_type": "stream",
          "name": "stdout",
          "text": [
            "Index:  0 Transformed x_: tensor([201., 201.]) Transformed y_: tensor([200.])\n",
            "Index:  1 Transformed x_: tensor([201., 201.]) Transformed y_: tensor([200.])\n",
            "Index:  2 Transformed x_: tensor([201., 201.]) Transformed y_: tensor([200.])\n"
          ]
        }
      ],
      "source": [
        "# Practice: Make a compose as mult() execute first and then add_mult(). Apply the compose on toy_set dataset. Print out the first 3 elements in the transformed dataset.\n",
        "my_compose = transforms.Compose([mult(), add_mult()])\n",
        "my_transformed_dataset = toy_set(transform = my_compose)\n",
        "for i in range(3):\n",
        "    x_, y_ = my_transformed_dataset[i]\n",
        "    print('Index: ', i, 'Transformed x_:', x_, 'Transformed y_:', y_)"
      ],
      "execution_count": 21
    },
    {
      "cell_type": "code",
      "source": [],
      "metadata": {
        "id": "6ezOPLfmulCQ"
      },
      "execution_count": null,
      "outputs": []
    }
  ],
  "metadata": {
    "kernelspec": {
      "display_name": "Python",
      "language": "python",
      "name": "conda-env-python-py"
    },
    "language_info": {
      "name": ""
    },
    "colab": {
      "provenance": []
    }
  },
  "nbformat": 4,
  "nbformat_minor": 0
}
